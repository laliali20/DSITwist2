{
  "nbformat": 4,
  "nbformat_minor": 0,
  "metadata": {
    "colab": {
      "name": "DSITwist2",
      "provenance": [],
      "collapsed_sections": [],
      "mount_file_id": "1IzcmZ5Ozk6kvHq42yjGkLYKyMOTC3MzV",
      "authorship_tag": "ABX9TyNUCMuFzL0GVcIMJ70BOjRf",
      "include_colab_link": true
    },
    "kernelspec": {
      "name": "python3",
      "display_name": "Python 3"
    },
    "language_info": {
      "name": "python"
    },
    "accelerator": "GPU"
  },
  "cells": [
    {
      "cell_type": "markdown",
      "metadata": {
        "id": "view-in-github",
        "colab_type": "text"
      },
      "source": [
        "<a href=\"https://colab.research.google.com/github/laliali20/DSITwist2/blob/main/DSITwist2.ipynb\" target=\"_parent\"><img src=\"https://colab.research.google.com/assets/colab-badge.svg\" alt=\"Open In Colab\"/></a>"
      ]
    },
    {
      "cell_type": "markdown",
      "source": [
        "# Project goal and Scope\n",
        "\n",
        "The objective of the project is to forecast 12 months ahead in time how popular the crypto firm, Kraken, is expected to be. The data considered is the google trend searches as well as wikipedia page visits. Tweets are initally considered but are eventually abandoned due to the complexity in determining a positive tweet from a negative one as well as time-constraint. \n",
        "\n",
        "The data from google trend searches as well as wikipedia page visits is scrapped and added into a database from which it is manipulated into a viable time series to use for predicting the project goals. Both the expected wikipedia visits and the google searches forecasts are provided in the project."
      ],
      "metadata": {
        "id": "ySWLgvkVBP66"
      }
    },
    {
      "cell_type": "markdown",
      "source": [
        "# Scraping"
      ],
      "metadata": {
        "id": "SU7Win3UCmOz"
      }
    },
    {
      "cell_type": "code",
      "source": [
        "!pip install pytrends "
      ],
      "metadata": {
        "id": "qhHt3Ll-T-qz",
        "colab": {
          "base_uri": "https://localhost:8080/"
        },
        "outputId": "034904cc-069d-41db-c3e6-2c2e1ae186ab"
      },
      "execution_count": 1,
      "outputs": [
        {
          "output_type": "stream",
          "name": "stdout",
          "text": [
            "Requirement already satisfied: pytrends in /usr/local/lib/python3.7/dist-packages (4.8.0)\n",
            "Requirement already satisfied: pandas>=0.25 in /usr/local/lib/python3.7/dist-packages (from pytrends) (1.3.5)\n",
            "Requirement already satisfied: requests>=2.0 in /usr/local/lib/python3.7/dist-packages (from pytrends) (2.23.0)\n",
            "Requirement already satisfied: lxml in /usr/local/lib/python3.7/dist-packages (from pytrends) (4.2.6)\n",
            "Requirement already satisfied: pytz>=2017.3 in /usr/local/lib/python3.7/dist-packages (from pandas>=0.25->pytrends) (2018.9)\n",
            "Requirement already satisfied: python-dateutil>=2.7.3 in /usr/local/lib/python3.7/dist-packages (from pandas>=0.25->pytrends) (2.8.2)\n",
            "Requirement already satisfied: numpy>=1.17.3 in /usr/local/lib/python3.7/dist-packages (from pandas>=0.25->pytrends) (1.21.5)\n",
            "Requirement already satisfied: six>=1.5 in /usr/local/lib/python3.7/dist-packages (from python-dateutil>=2.7.3->pandas>=0.25->pytrends) (1.15.0)\n",
            "Requirement already satisfied: chardet<4,>=3.0.2 in /usr/local/lib/python3.7/dist-packages (from requests>=2.0->pytrends) (3.0.4)\n",
            "Requirement already satisfied: urllib3!=1.25.0,!=1.25.1,<1.26,>=1.21.1 in /usr/local/lib/python3.7/dist-packages (from requests>=2.0->pytrends) (1.24.3)\n",
            "Requirement already satisfied: certifi>=2017.4.17 in /usr/local/lib/python3.7/dist-packages (from requests>=2.0->pytrends) (2021.10.8)\n",
            "Requirement already satisfied: idna<3,>=2.5 in /usr/local/lib/python3.7/dist-packages (from requests>=2.0->pytrends) (2.10)\n"
          ]
        }
      ]
    },
    {
      "cell_type": "code",
      "source": [
        "!pip install snscrape"
      ],
      "metadata": {
        "id": "xYfLX3L1UEe7",
        "colab": {
          "base_uri": "https://localhost:8080/"
        },
        "outputId": "4bda1a4f-a98b-409b-f98f-1f9b0de26cfd"
      },
      "execution_count": 2,
      "outputs": [
        {
          "output_type": "stream",
          "name": "stdout",
          "text": [
            "Requirement already satisfied: snscrape in /usr/local/lib/python3.7/dist-packages (0.3.4)\n",
            "Requirement already satisfied: beautifulsoup4 in /usr/local/lib/python3.7/dist-packages (from snscrape) (4.6.3)\n",
            "Requirement already satisfied: lxml in /usr/local/lib/python3.7/dist-packages (from snscrape) (4.2.6)\n",
            "Requirement already satisfied: requests[socks] in /usr/local/lib/python3.7/dist-packages (from snscrape) (2.23.0)\n",
            "Requirement already satisfied: idna<3,>=2.5 in /usr/local/lib/python3.7/dist-packages (from requests[socks]->snscrape) (2.10)\n",
            "Requirement already satisfied: certifi>=2017.4.17 in /usr/local/lib/python3.7/dist-packages (from requests[socks]->snscrape) (2021.10.8)\n",
            "Requirement already satisfied: urllib3!=1.25.0,!=1.25.1,<1.26,>=1.21.1 in /usr/local/lib/python3.7/dist-packages (from requests[socks]->snscrape) (1.24.3)\n",
            "Requirement already satisfied: chardet<4,>=3.0.2 in /usr/local/lib/python3.7/dist-packages (from requests[socks]->snscrape) (3.0.4)\n",
            "Requirement already satisfied: PySocks!=1.5.7,>=1.5.6 in /usr/local/lib/python3.7/dist-packages (from requests[socks]->snscrape) (1.7.1)\n"
          ]
        }
      ]
    },
    {
      "cell_type": "code",
      "source": [
        "!pip install pageviewapi"
      ],
      "metadata": {
        "id": "DBbCTSvPUH_7",
        "colab": {
          "base_uri": "https://localhost:8080/"
        },
        "outputId": "c9a8fc88-3f7e-4f37-fe44-099f6be3ee33"
      },
      "execution_count": 3,
      "outputs": [
        {
          "output_type": "stream",
          "name": "stdout",
          "text": [
            "Requirement already satisfied: pageviewapi in /usr/local/lib/python3.7/dist-packages (0.4.0)\n",
            "Requirement already satisfied: requests in /usr/local/lib/python3.7/dist-packages (from pageviewapi) (2.23.0)\n",
            "Requirement already satisfied: attrdict in /usr/local/lib/python3.7/dist-packages (from pageviewapi) (2.0.1)\n",
            "Requirement already satisfied: six in /usr/local/lib/python3.7/dist-packages (from attrdict->pageviewapi) (1.15.0)\n",
            "Requirement already satisfied: certifi>=2017.4.17 in /usr/local/lib/python3.7/dist-packages (from requests->pageviewapi) (2021.10.8)\n",
            "Requirement already satisfied: idna<3,>=2.5 in /usr/local/lib/python3.7/dist-packages (from requests->pageviewapi) (2.10)\n",
            "Requirement already satisfied: chardet<4,>=3.0.2 in /usr/local/lib/python3.7/dist-packages (from requests->pageviewapi) (3.0.4)\n",
            "Requirement already satisfied: urllib3!=1.25.0,!=1.25.1,<1.26,>=1.21.1 in /usr/local/lib/python3.7/dist-packages (from requests->pageviewapi) (1.24.3)\n"
          ]
        }
      ]
    },
    {
      "cell_type": "code",
      "execution_count": 4,
      "metadata": {
        "id": "YdV2MwoLTY2V"
      },
      "outputs": [],
      "source": [
        "\n",
        "#%% Import modules\n",
        "import datetime\n",
        "import requests\n",
        "import pandas as pd\n",
        "from pytrends import dailydata\n",
        "import snscrape.modules.twitter as sntwitter\n",
        "import pageviewapi\n",
        "import numpy as np\n",
        "# import mysql.connector\n",
        "\n",
        "    "
      ]
    },
    {
      "cell_type": "markdown",
      "source": [
        "## Wikipedia"
      ],
      "metadata": {
        "id": "R0a9g49TC9EB"
      }
    },
    {
      "cell_type": "code",
      "source": [
        "def get_wikipedia_data(article, from_date, to_date):\n",
        "    \n",
        "    \"\"\"\n",
        "    Gets wikipedia article page views.\n",
        "    Dates like: 'YYYYMMDD'\n",
        "    \"\"\"\n",
        "    \n",
        "    response =  pageviewapi.per_article('en.wikipedia.org', article, from_date, to_date,\n",
        "                                        access = 'all-access', agent = 'all-agents', granularity = 'monthly')\n",
        "    \n",
        "    data = [x['views'] for x in response['items']]\n",
        "    dates = [x['timestamp'] for x in response['items']]\n",
        "    \n",
        "    return pd.DataFrame({'date': dates, 'views': data})\n"
      ],
      "metadata": {
        "id": "O5D5ByFHCyTu"
      },
      "execution_count": 5,
      "outputs": []
    },
    {
      "cell_type": "markdown",
      "source": [
        "## Google Trends"
      ],
      "metadata": {
        "id": "0rswDf_XDEZE"
      }
    },
    {
      "cell_type": "code",
      "source": [
        "def get_google_trends_data(keyword, from_date, to_date):\n",
        "    \n",
        "    \"\"\"\n",
        "    Gets daily Google Trends for keyword.\n",
        "    Dates like: 'YYYY-MM-DD'\n",
        "    \"\"\"\n",
        "    \n",
        "    from_year, from_month = datetime.date.fromisoformat(from_date).year, datetime.date.fromisoformat(from_date).month\n",
        "    to_year, to_month = datetime.date.fromisoformat(to_date).year, datetime.date.fromisoformat(to_date).month\n",
        "\n",
        "    data = dailydata.get_daily_data(keyword, from_year, from_month, to_year, to_month)\n",
        "    \n",
        "    return data[keyword]"
      ],
      "metadata": {
        "id": "wJ4WTnUECvd2"
      },
      "execution_count": 6,
      "outputs": []
    },
    {
      "cell_type": "markdown",
      "source": [
        "## Tweets"
      ],
      "metadata": {
        "id": "33XaX-npDKrz"
      }
    },
    {
      "cell_type": "code",
      "source": [
        "# def get_twitter_data(keyword, from_date, to_date):\n",
        "    \n",
        "#     \"\"\"\n",
        "#     Gets twitter posts containing specific keyword.\n",
        "#     Dates like: 'YYYY-MM-DD'\n",
        "    \n",
        "#     \"\"\"\n",
        "#     # Creating list to append tweet data to\n",
        "#     counts_list = []\n",
        "#     dates_list = []\n",
        "    \n",
        "#     days = pd.date_range(start = from_date, end = to_date)\n",
        "    \n",
        "#     for i in range(len(days)-1):\n",
        "        \n",
        "#         # Using TwitterSearchScraper to count daily tweets\n",
        "#         daily_count = 0\n",
        "#         for item in sntwitter.TwitterSearchScraper(keyword + ' since:' + str(days[i].date()) + ' until:' + str(days[i+1].date())).get_items():\n",
        "#             daily_count = daily_count + 1\n",
        "        \n",
        "#         print(\"Day\", str(days[i].date()), \"had:\", daily_count, \". Going to next day...\")\n",
        "        \n",
        "#         dates_list.append(days[i].date())\n",
        "#         counts_list.append(daily_count)\n",
        "        \n",
        "#     return pd.DataFrame({'date': dates_list, 'tweets': counts_list})"
      ],
      "metadata": {
        "id": "8I4NKMThC6UX"
      },
      "execution_count": 7,
      "outputs": []
    },
    {
      "cell_type": "markdown",
      "source": [
        "## Scaping the desired data"
      ],
      "metadata": {
        "id": "8QdfeYl9DPf_"
      }
    },
    {
      "cell_type": "code",
      "source": [
        "\n",
        "#%% Scrape desired data \n",
        "\n",
        "# Get Google data and save them\n",
        "google = get_google_trends_data('Kraken', '2019-10-01', '2022-02-28')\n",
        "google.to_csv('google_data.csv')\n",
        "\n"
      ],
      "metadata": {
        "colab": {
          "base_uri": "https://localhost:8080/"
        },
        "id": "xf2Js29jTefU",
        "outputId": "741f38ed-a9f2-4715-9fa0-2271e5d7ce56"
      },
      "execution_count": 8,
      "outputs": [
        {
          "output_type": "stream",
          "name": "stdout",
          "text": [
            "Kraken:2019-10-01 2019-10-31\n",
            "Kraken:2019-11-01 2019-11-30\n",
            "Kraken:2019-12-01 2019-12-31\n",
            "Kraken:2020-01-01 2020-01-31\n",
            "Kraken:2020-02-01 2020-02-29\n",
            "Kraken:2020-03-01 2020-03-31\n",
            "Kraken:2020-04-01 2020-04-30\n",
            "Kraken:2020-05-01 2020-05-31\n",
            "Kraken:2020-06-01 2020-06-30\n",
            "Kraken:2020-07-01 2020-07-31\n",
            "Kraken:2020-08-01 2020-08-31\n",
            "Kraken:2020-09-01 2020-09-30\n",
            "Kraken:2020-10-01 2020-10-31\n",
            "Kraken:2020-11-01 2020-11-30\n",
            "Kraken:2020-12-01 2020-12-31\n",
            "Kraken:2021-01-01 2021-01-31\n",
            "Kraken:2021-02-01 2021-02-28\n",
            "Kraken:2021-03-01 2021-03-31\n",
            "Kraken:2021-04-01 2021-04-30\n",
            "Kraken:2021-05-01 2021-05-31\n",
            "Kraken:2021-06-01 2021-06-30\n",
            "Kraken:2021-07-01 2021-07-31\n",
            "Kraken:2021-08-01 2021-08-31\n",
            "Kraken:2021-09-01 2021-09-30\n",
            "Kraken:2021-10-01 2021-10-31\n",
            "Kraken:2021-11-01 2021-11-30\n",
            "Kraken:2021-12-01 2021-12-31\n",
            "Kraken:2022-01-01 2022-01-31\n",
            "Kraken:2022-02-01 2022-02-28\n"
          ]
        }
      ]
    },
    {
      "cell_type": "code",
      "source": [
        "# Get Wikipedia data and save them\n",
        "wikipedia = get_wikipedia_data('Kraken', '20191001', '20220228')\n",
        "wikipedia.to_csv('wikipedia_data.csv')"
      ],
      "metadata": {
        "id": "2v7VYTffeW09"
      },
      "execution_count": 9,
      "outputs": []
    },
    {
      "cell_type": "markdown",
      "source": [
        "# Create a database"
      ],
      "metadata": {
        "id": "FHJwt7sgDX5L"
      }
    },
    {
      "cell_type": "code",
      "source": [
        "# build db\n",
        "\n",
        "import sqlite3\n",
        "sqlite3.connect('db_dsi_twist')\n",
        "\n",
        "conn = sqlite3.connect('db_dsi_twist') \n",
        "c = conn.cursor()\n",
        "\n",
        "c.execute('''\n",
        "          CREATE TABLE IF NOT EXISTS google\n",
        "          (date date, mentions)\n",
        "          ''')\n",
        "          \n",
        "c.execute('''\n",
        "          CREATE TABLE IF NOT EXISTS wikipedia\n",
        "          (dateid , mentions)\n",
        "          ''')\n",
        "                     \n",
        "conn.commit()"
      ],
      "metadata": {
        "id": "eQw6fkiNer_7"
      },
      "execution_count": 10,
      "outputs": []
    },
    {
      "cell_type": "code",
      "source": [
        "from sqlalchemy import create_engine\n",
        "dateparse = lambda x: datetime.datetime.strptime(x, '%Y-%m-%d')\n",
        "df_google = pd.read_csv('/content/google_data.csv', sep = ',', parse_dates=['date'], date_parser=dateparse)\n",
        "df_wiki = pd.read_csv('/content/wikipedia_data.csv', sep = ',')\n",
        "\n",
        "df_google.to_sql('google_data',  conn, if_exists='replace', index=False)\n",
        "df_wiki.to_sql('wiki_data',  conn, if_exists='replace', index=False)"
      ],
      "metadata": {
        "colab": {
          "base_uri": "https://localhost:8080/"
        },
        "id": "GLu_4YgKzuPC",
        "outputId": "cb8c4873-d397-4d1a-98c7-9d071fc5f4be"
      },
      "execution_count": 11,
      "outputs": [
        {
          "output_type": "stream",
          "name": "stderr",
          "text": [
            "/usr/local/lib/python3.7/dist-packages/pandas/core/generic.py:2882: UserWarning: The spaces in these column names will not be changed. In pandas versions < 0.14, spaces were converted to underscores.\n",
            "  method=method,\n"
          ]
        }
      ]
    },
    {
      "cell_type": "markdown",
      "source": [
        "# Read from the database"
      ],
      "metadata": {
        "id": "U9UG2dygDgWl"
      }
    },
    {
      "cell_type": "code",
      "source": [
        "google_query = '''\n",
        "select * \n",
        "from google_data\n",
        "'''\n",
        "\n",
        "wiki_query = '''\n",
        "select * \n",
        "from wiki_data\n",
        "'''\n",
        "\n",
        "df1 = pd.read_sql(google_query, conn )\n",
        "df2 = pd.read_sql(wiki_query, conn)\n",
        "df2"
      ],
      "metadata": {
        "colab": {
          "base_uri": "https://localhost:8080/",
          "height": 0
        },
        "id": "4HR5abLL0TfJ",
        "outputId": "b405452d-88f2-4189-c16e-4f61f4d20a89"
      },
      "execution_count": 12,
      "outputs": [
        {
          "output_type": "execute_result",
          "data": {
            "text/plain": [
              "    Unnamed: 0        date   views\n",
              "0            0  2019100100   66833\n",
              "1            1  2019110100   65284\n",
              "2            2  2019120100   61757\n",
              "3            3  2020010100   89528\n",
              "4            4  2020020100   65809\n",
              "5            5  2020030100   62899\n",
              "6            6  2020040100   73262\n",
              "7            7  2020050100   74209\n",
              "8            8  2020060100   76217\n",
              "9            9  2020070100  420186\n",
              "10          10  2020080100   96096\n",
              "11          11  2020090100   78180\n",
              "12          12  2020100100   79766\n",
              "13          13  2020110100  287424\n",
              "14          14  2020120100  143815\n",
              "15          15  2021010100  121715\n",
              "16          16  2021020100   88538\n",
              "17          17  2021030100   96368\n",
              "18          18  2021040100   91035\n",
              "19          19  2021050100  102023\n",
              "20          20  2021060100   88764\n",
              "21          21  2021070100  171954\n",
              "22          22  2021080100  118955\n",
              "23          23  2021090100   97431\n",
              "24          24  2021100100  193557\n",
              "25          25  2021110100   97117\n",
              "26          26  2021120100   83254\n",
              "27          27  2022010100   90766\n",
              "28          28  2022020100   92369"
            ],
            "text/html": [
              "\n",
              "  <div id=\"df-1e95de52-6d4f-45d9-84c6-21f61c8f70b5\">\n",
              "    <div class=\"colab-df-container\">\n",
              "      <div>\n",
              "<style scoped>\n",
              "    .dataframe tbody tr th:only-of-type {\n",
              "        vertical-align: middle;\n",
              "    }\n",
              "\n",
              "    .dataframe tbody tr th {\n",
              "        vertical-align: top;\n",
              "    }\n",
              "\n",
              "    .dataframe thead th {\n",
              "        text-align: right;\n",
              "    }\n",
              "</style>\n",
              "<table border=\"1\" class=\"dataframe\">\n",
              "  <thead>\n",
              "    <tr style=\"text-align: right;\">\n",
              "      <th></th>\n",
              "      <th>Unnamed: 0</th>\n",
              "      <th>date</th>\n",
              "      <th>views</th>\n",
              "    </tr>\n",
              "  </thead>\n",
              "  <tbody>\n",
              "    <tr>\n",
              "      <th>0</th>\n",
              "      <td>0</td>\n",
              "      <td>2019100100</td>\n",
              "      <td>66833</td>\n",
              "    </tr>\n",
              "    <tr>\n",
              "      <th>1</th>\n",
              "      <td>1</td>\n",
              "      <td>2019110100</td>\n",
              "      <td>65284</td>\n",
              "    </tr>\n",
              "    <tr>\n",
              "      <th>2</th>\n",
              "      <td>2</td>\n",
              "      <td>2019120100</td>\n",
              "      <td>61757</td>\n",
              "    </tr>\n",
              "    <tr>\n",
              "      <th>3</th>\n",
              "      <td>3</td>\n",
              "      <td>2020010100</td>\n",
              "      <td>89528</td>\n",
              "    </tr>\n",
              "    <tr>\n",
              "      <th>4</th>\n",
              "      <td>4</td>\n",
              "      <td>2020020100</td>\n",
              "      <td>65809</td>\n",
              "    </tr>\n",
              "    <tr>\n",
              "      <th>5</th>\n",
              "      <td>5</td>\n",
              "      <td>2020030100</td>\n",
              "      <td>62899</td>\n",
              "    </tr>\n",
              "    <tr>\n",
              "      <th>6</th>\n",
              "      <td>6</td>\n",
              "      <td>2020040100</td>\n",
              "      <td>73262</td>\n",
              "    </tr>\n",
              "    <tr>\n",
              "      <th>7</th>\n",
              "      <td>7</td>\n",
              "      <td>2020050100</td>\n",
              "      <td>74209</td>\n",
              "    </tr>\n",
              "    <tr>\n",
              "      <th>8</th>\n",
              "      <td>8</td>\n",
              "      <td>2020060100</td>\n",
              "      <td>76217</td>\n",
              "    </tr>\n",
              "    <tr>\n",
              "      <th>9</th>\n",
              "      <td>9</td>\n",
              "      <td>2020070100</td>\n",
              "      <td>420186</td>\n",
              "    </tr>\n",
              "    <tr>\n",
              "      <th>10</th>\n",
              "      <td>10</td>\n",
              "      <td>2020080100</td>\n",
              "      <td>96096</td>\n",
              "    </tr>\n",
              "    <tr>\n",
              "      <th>11</th>\n",
              "      <td>11</td>\n",
              "      <td>2020090100</td>\n",
              "      <td>78180</td>\n",
              "    </tr>\n",
              "    <tr>\n",
              "      <th>12</th>\n",
              "      <td>12</td>\n",
              "      <td>2020100100</td>\n",
              "      <td>79766</td>\n",
              "    </tr>\n",
              "    <tr>\n",
              "      <th>13</th>\n",
              "      <td>13</td>\n",
              "      <td>2020110100</td>\n",
              "      <td>287424</td>\n",
              "    </tr>\n",
              "    <tr>\n",
              "      <th>14</th>\n",
              "      <td>14</td>\n",
              "      <td>2020120100</td>\n",
              "      <td>143815</td>\n",
              "    </tr>\n",
              "    <tr>\n",
              "      <th>15</th>\n",
              "      <td>15</td>\n",
              "      <td>2021010100</td>\n",
              "      <td>121715</td>\n",
              "    </tr>\n",
              "    <tr>\n",
              "      <th>16</th>\n",
              "      <td>16</td>\n",
              "      <td>2021020100</td>\n",
              "      <td>88538</td>\n",
              "    </tr>\n",
              "    <tr>\n",
              "      <th>17</th>\n",
              "      <td>17</td>\n",
              "      <td>2021030100</td>\n",
              "      <td>96368</td>\n",
              "    </tr>\n",
              "    <tr>\n",
              "      <th>18</th>\n",
              "      <td>18</td>\n",
              "      <td>2021040100</td>\n",
              "      <td>91035</td>\n",
              "    </tr>\n",
              "    <tr>\n",
              "      <th>19</th>\n",
              "      <td>19</td>\n",
              "      <td>2021050100</td>\n",
              "      <td>102023</td>\n",
              "    </tr>\n",
              "    <tr>\n",
              "      <th>20</th>\n",
              "      <td>20</td>\n",
              "      <td>2021060100</td>\n",
              "      <td>88764</td>\n",
              "    </tr>\n",
              "    <tr>\n",
              "      <th>21</th>\n",
              "      <td>21</td>\n",
              "      <td>2021070100</td>\n",
              "      <td>171954</td>\n",
              "    </tr>\n",
              "    <tr>\n",
              "      <th>22</th>\n",
              "      <td>22</td>\n",
              "      <td>2021080100</td>\n",
              "      <td>118955</td>\n",
              "    </tr>\n",
              "    <tr>\n",
              "      <th>23</th>\n",
              "      <td>23</td>\n",
              "      <td>2021090100</td>\n",
              "      <td>97431</td>\n",
              "    </tr>\n",
              "    <tr>\n",
              "      <th>24</th>\n",
              "      <td>24</td>\n",
              "      <td>2021100100</td>\n",
              "      <td>193557</td>\n",
              "    </tr>\n",
              "    <tr>\n",
              "      <th>25</th>\n",
              "      <td>25</td>\n",
              "      <td>2021110100</td>\n",
              "      <td>97117</td>\n",
              "    </tr>\n",
              "    <tr>\n",
              "      <th>26</th>\n",
              "      <td>26</td>\n",
              "      <td>2021120100</td>\n",
              "      <td>83254</td>\n",
              "    </tr>\n",
              "    <tr>\n",
              "      <th>27</th>\n",
              "      <td>27</td>\n",
              "      <td>2022010100</td>\n",
              "      <td>90766</td>\n",
              "    </tr>\n",
              "    <tr>\n",
              "      <th>28</th>\n",
              "      <td>28</td>\n",
              "      <td>2022020100</td>\n",
              "      <td>92369</td>\n",
              "    </tr>\n",
              "  </tbody>\n",
              "</table>\n",
              "</div>\n",
              "      <button class=\"colab-df-convert\" onclick=\"convertToInteractive('df-1e95de52-6d4f-45d9-84c6-21f61c8f70b5')\"\n",
              "              title=\"Convert this dataframe to an interactive table.\"\n",
              "              style=\"display:none;\">\n",
              "        \n",
              "  <svg xmlns=\"http://www.w3.org/2000/svg\" height=\"24px\"viewBox=\"0 0 24 24\"\n",
              "       width=\"24px\">\n",
              "    <path d=\"M0 0h24v24H0V0z\" fill=\"none\"/>\n",
              "    <path d=\"M18.56 5.44l.94 2.06.94-2.06 2.06-.94-2.06-.94-.94-2.06-.94 2.06-2.06.94zm-11 1L8.5 8.5l.94-2.06 2.06-.94-2.06-.94L8.5 2.5l-.94 2.06-2.06.94zm10 10l.94 2.06.94-2.06 2.06-.94-2.06-.94-.94-2.06-.94 2.06-2.06.94z\"/><path d=\"M17.41 7.96l-1.37-1.37c-.4-.4-.92-.59-1.43-.59-.52 0-1.04.2-1.43.59L10.3 9.45l-7.72 7.72c-.78.78-.78 2.05 0 2.83L4 21.41c.39.39.9.59 1.41.59.51 0 1.02-.2 1.41-.59l7.78-7.78 2.81-2.81c.8-.78.8-2.07 0-2.86zM5.41 20L4 18.59l7.72-7.72 1.47 1.35L5.41 20z\"/>\n",
              "  </svg>\n",
              "      </button>\n",
              "      \n",
              "  <style>\n",
              "    .colab-df-container {\n",
              "      display:flex;\n",
              "      flex-wrap:wrap;\n",
              "      gap: 12px;\n",
              "    }\n",
              "\n",
              "    .colab-df-convert {\n",
              "      background-color: #E8F0FE;\n",
              "      border: none;\n",
              "      border-radius: 50%;\n",
              "      cursor: pointer;\n",
              "      display: none;\n",
              "      fill: #1967D2;\n",
              "      height: 32px;\n",
              "      padding: 0 0 0 0;\n",
              "      width: 32px;\n",
              "    }\n",
              "\n",
              "    .colab-df-convert:hover {\n",
              "      background-color: #E2EBFA;\n",
              "      box-shadow: 0px 1px 2px rgba(60, 64, 67, 0.3), 0px 1px 3px 1px rgba(60, 64, 67, 0.15);\n",
              "      fill: #174EA6;\n",
              "    }\n",
              "\n",
              "    [theme=dark] .colab-df-convert {\n",
              "      background-color: #3B4455;\n",
              "      fill: #D2E3FC;\n",
              "    }\n",
              "\n",
              "    [theme=dark] .colab-df-convert:hover {\n",
              "      background-color: #434B5C;\n",
              "      box-shadow: 0px 1px 3px 1px rgba(0, 0, 0, 0.15);\n",
              "      filter: drop-shadow(0px 1px 2px rgba(0, 0, 0, 0.3));\n",
              "      fill: #FFFFFF;\n",
              "    }\n",
              "  </style>\n",
              "\n",
              "      <script>\n",
              "        const buttonEl =\n",
              "          document.querySelector('#df-1e95de52-6d4f-45d9-84c6-21f61c8f70b5 button.colab-df-convert');\n",
              "        buttonEl.style.display =\n",
              "          google.colab.kernel.accessAllowed ? 'block' : 'none';\n",
              "\n",
              "        async function convertToInteractive(key) {\n",
              "          const element = document.querySelector('#df-1e95de52-6d4f-45d9-84c6-21f61c8f70b5');\n",
              "          const dataTable =\n",
              "            await google.colab.kernel.invokeFunction('convertToInteractive',\n",
              "                                                     [key], {});\n",
              "          if (!dataTable) return;\n",
              "\n",
              "          const docLinkHtml = 'Like what you see? Visit the ' +\n",
              "            '<a target=\"_blank\" href=https://colab.research.google.com/notebooks/data_table.ipynb>data table notebook</a>'\n",
              "            + ' to learn more about interactive tables.';\n",
              "          element.innerHTML = '';\n",
              "          dataTable['output_type'] = 'display_data';\n",
              "          await google.colab.output.renderOutput(dataTable, element);\n",
              "          const docLink = document.createElement('div');\n",
              "          docLink.innerHTML = docLinkHtml;\n",
              "          element.appendChild(docLink);\n",
              "        }\n",
              "      </script>\n",
              "    </div>\n",
              "  </div>\n",
              "  "
            ]
          },
          "metadata": {},
          "execution_count": 12
        }
      ]
    },
    {
      "cell_type": "markdown",
      "source": [
        "# Model fitting\n",
        "\n",
        "\n"
      ],
      "metadata": {
        "id": "eYIGX0k8Dms3"
      }
    },
    {
      "cell_type": "code",
      "source": [
        "# forecast input\n",
        "std_date = lambda x: str(str(x)[0:4]) + \"-\" + str(str(x)[4:6]) + \"-01\"\n",
        "std_date2 = lambda x: str(str(x)[0:7]) + \"-01\"\n",
        "df2['temp_date'] = df2['date'].apply(std_date)\n",
        "df1['temp_date'] = df1['date'].apply(std_date2)\n",
        "df1_in = df1.groupby('temp_date').agg({'Kraken':'sum'}).sort_values('temp_date').reset_index()\n",
        "df2_in = df2.groupby('temp_date').agg({'views':'sum'}).sort_values('temp_date').reset_index()"
      ],
      "metadata": {
        "id": "3UnsMR692Kea"
      },
      "execution_count": 13,
      "outputs": []
    },
    {
      "cell_type": "code",
      "source": [
        "from statsmodels.stats.stattools import durbin_watson\n",
        "from statsmodels.tsa.api import Holt\n",
        "from statsmodels.tsa.stattools import adfuller\n",
        "\n",
        "\n",
        "def adfuller_test(series, signif=0.05, name='', verbose=False):\n",
        "    r = adfuller(series, autolag='AIC')\n",
        "    output = {'test_statistic':round(r[0], 4), 'pvalue':round(r[1], 4), 'n_lags':round(r[2], 4), 'n_obs':r[3]}\n",
        "    p_value = output['pvalue'] \n",
        "    def adjust(val, length= 6): return str(val).ljust(length)\n",
        "\n",
        "    # Print Summary\n",
        "    print(f'    Augmented Dickey-Fuller Test on \"{name}\"', \"\\n   \", '-'*47)\n",
        "    print(f' Null Hypothesis: Data has unit root. Non-Stationary.')\n",
        "    print(f' Significance Level    = {signif}')\n",
        "    print(f' Test Statistic        = {output[\"test_statistic\"]}')\n",
        "    print(f' No. Lags Chosen       = {output[\"n_lags\"]}')\n",
        "\n",
        "    for key,val in r[4].items():\n",
        "        print(f' Critical value {adjust(key)} = {round(val, 3)}')\n",
        "\n",
        "    if p_value <= signif:\n",
        "        print(f\" => P-Value = {p_value}. Rejecting Null Hypothesis.\")\n",
        "        print(f\" => Series is Stationary.\")\n",
        "    else:\n",
        "        print(f\" => P-Value = {p_value}. Weak evidence to reject the Null Hypothesis.\")\n",
        "        print(f\" => Series is Non-Stationary.\") "
      ],
      "metadata": {
        "colab": {
          "base_uri": "https://localhost:8080/"
        },
        "id": "fGkPp6cPaE70",
        "outputId": "2876afb3-eb89-4457-9d54-6168f270e239"
      },
      "execution_count": 14,
      "outputs": [
        {
          "output_type": "stream",
          "name": "stderr",
          "text": [
            "/usr/local/lib/python3.7/dist-packages/statsmodels/tools/_testing.py:19: FutureWarning: pandas.util.testing is deprecated. Use the functions in the public API at pandas.testing instead.\n",
            "  import pandas.util.testing as tm\n"
          ]
        }
      ]
    },
    {
      "cell_type": "markdown",
      "source": [
        "## Google Trends Dataset"
      ],
      "metadata": {
        "id": "G9yjOmS2EWk9"
      }
    },
    {
      "cell_type": "markdown",
      "source": [
        "Check for starionarity"
      ],
      "metadata": {
        "id": "CgEUy-5zD50J"
      }
    },
    {
      "cell_type": "code",
      "source": [
        "adfuller_test(df1_in['Kraken'].to_list())"
      ],
      "metadata": {
        "colab": {
          "base_uri": "https://localhost:8080/"
        },
        "id": "2tYQyOweaMvE",
        "outputId": "9dc9729d-703e-4767-ae41-ee201bfdf7b8"
      },
      "execution_count": 15,
      "outputs": [
        {
          "output_type": "stream",
          "name": "stdout",
          "text": [
            "    Augmented Dickey-Fuller Test on \"\" \n",
            "    -----------------------------------------------\n",
            " Null Hypothesis: Data has unit root. Non-Stationary.\n",
            " Significance Level    = 0.05\n",
            " Test Statistic        = -2.9594\n",
            " No. Lags Chosen       = 0\n",
            " Critical value 1%     = -3.689\n",
            " Critical value 5%     = -2.972\n",
            " Critical value 10%    = -2.625\n",
            " => P-Value = 0.0389. Rejecting Null Hypothesis.\n",
            " => Series is Stationary.\n"
          ]
        }
      ]
    },
    {
      "cell_type": "markdown",
      "source": [
        "Split datasets into training and testing sets"
      ],
      "metadata": {
        "id": "VLp3xgYgDqi9"
      }
    },
    {
      "cell_type": "code",
      "source": [
        "holdout = len(df1_in) - 12\n",
        "nobs_train = [i for i in range(0, holdout)]\n",
        "nobs_test = [i for i in range(holdout, len(df1_in))]\n",
        "train_goog = df1_in.iloc[nobs_train]\n",
        "test_goog = df1_in.iloc[nobs_test]"
      ],
      "metadata": {
        "id": "8cQhl0KuWz60"
      },
      "execution_count": 16,
      "outputs": []
    },
    {
      "cell_type": "code",
      "source": [
        "import matplotlib.pyplot as plt\n",
        "\n",
        "plt.plot(df1_in['Kraken'])\n",
        "plt.show()"
      ],
      "metadata": {
        "colab": {
          "base_uri": "https://localhost:8080/",
          "height": 0
        },
        "id": "G2jTNEs5V-mM",
        "outputId": "0d122835-1491-47e8-c739-e70f2a186b86"
      },
      "execution_count": 17,
      "outputs": [
        {
          "output_type": "display_data",
          "data": {
            "text/plain": [
              "<Figure size 432x288 with 1 Axes>"
            ],
            "image/png": "[encoded data removed]"
          },
          "metadata": {
            "needs_background": "light"
          }
        }
      ]
    },
    {
      "cell_type": "code",
      "source": [
        "adfuller_test(df2_in['views'].to_list())"
      ],
      "metadata": {
        "colab": {
          "base_uri": "https://localhost:8080/"
        },
        "id": "At4TCDxtb1ka",
        "outputId": "ef7d7d28-38a8-45c9-e9a5-cfdf2ed81cca"
      },
      "execution_count": 18,
      "outputs": [
        {
          "output_type": "stream",
          "name": "stdout",
          "text": [
            "    Augmented Dickey-Fuller Test on \"\" \n",
            "    -----------------------------------------------\n",
            " Null Hypothesis: Data has unit root. Non-Stationary.\n",
            " Significance Level    = 0.05\n",
            " Test Statistic        = -2.1743\n",
            " No. Lags Chosen       = 3\n",
            " Critical value 1%     = -3.724\n",
            " Critical value 5%     = -2.986\n",
            " Critical value 10%    = -2.633\n",
            " => P-Value = 0.2157. Weak evidence to reject the Null Hypothesis.\n",
            " => Series is Non-Stationary.\n"
          ]
        }
      ]
    },
    {
      "cell_type": "code",
      "source": [
        "plt.plot(df2_in['views'])\n",
        "plt.show()"
      ],
      "metadata": {
        "colab": {
          "base_uri": "https://localhost:8080/",
          "height": 0
        },
        "id": "JEpyZE4qbuXX",
        "outputId": "4ac4fb44-0582-4710-efc6-0b2bdd2739ba"
      },
      "execution_count": 19,
      "outputs": [
        {
          "output_type": "display_data",
          "data": {
            "text/plain": [
              "<Figure size 432x288 with 1 Axes>"
            ],
            "image/png": "[encoded data removed]"
          },
          "metadata": {
            "needs_background": "light"
          }
        }
      ]
    },
    {
      "cell_type": "code",
      "source": [
        "fit_goog_test = Holt(train_goog['Kraken']).fit(optimized=True)\n",
        "fcast_goog_test = fit_goog_test.forecast(12)"
      ],
      "metadata": {
        "colab": {
          "base_uri": "https://localhost:8080/"
        },
        "id": "T7sxyQ4KcFSO",
        "outputId": "347258a8-a1e4-4de1-9058-cdb0dd9c66e0"
      },
      "execution_count": 20,
      "outputs": [
        {
          "output_type": "stream",
          "name": "stderr",
          "text": [
            "/usr/local/lib/python3.7/dist-packages/statsmodels/tsa/holtwinters.py:712: ConvergenceWarning: Optimization failed to converge. Check mle_retvals.\n",
            "  ConvergenceWarning)\n"
          ]
        }
      ]
    },
    {
      "cell_type": "markdown",
      "source": [
        "Compute accuracy"
      ],
      "metadata": {
        "id": "tAYkvTfAERKO"
      }
    },
    {
      "cell_type": "code",
      "source": [
        "def compute_MAPE(act, fcast):\n",
        "  err = np.zeros(len(act))\n",
        "  for i in range(len(act)):\n",
        "    err[i] = (abs(act[i] - fcast[i]))/act[i]\n",
        "  return err.mean()"
      ],
      "metadata": {
        "id": "ar-ON8umeHWg"
      },
      "execution_count": 21,
      "outputs": []
    },
    {
      "cell_type": "markdown",
      "source": [
        "## Wikipedia views dataset"
      ],
      "metadata": {
        "id": "EFyfRM2Lfx0B"
      }
    },
    {
      "cell_type": "code",
      "source": [
        "holdout = len(df1_in) - 12\n",
        "nobs_train = [i for i in range(0, holdout)]\n",
        "nobs_test = [i for i in range(holdout, len(df1_in))]\n",
        "train_wiki = df2_in.iloc[nobs_train]\n",
        "test_wiki = df2_in.iloc[nobs_test]"
      ],
      "metadata": {
        "id": "ys96EE_Ef3lw"
      },
      "execution_count": 22,
      "outputs": []
    },
    {
      "cell_type": "code",
      "source": [
        "fit_wiki = Holt(train_wiki['views']).fit(optimized=True)\n",
        "fcast_wiki_test = fit_wiki.forecast(12)"
      ],
      "metadata": {
        "colab": {
          "base_uri": "https://localhost:8080/"
        },
        "id": "BEM4DmRqf92h",
        "outputId": "4fd80900-9648-47f2-a797-2b18606b9982"
      },
      "execution_count": 23,
      "outputs": [
        {
          "output_type": "stream",
          "name": "stderr",
          "text": [
            "/usr/local/lib/python3.7/dist-packages/statsmodels/tsa/holtwinters.py:712: ConvergenceWarning: Optimization failed to converge. Check mle_retvals.\n",
            "  ConvergenceWarning)\n"
          ]
        }
      ]
    },
    {
      "cell_type": "markdown",
      "source": [
        "# Forecast "
      ],
      "metadata": {
        "id": "LIQUHLkuiQkf"
      }
    },
    {
      "cell_type": "code",
      "source": [
        "fit_goog = Holt(df1_in['Kraken']).fit(optimized=True)\n",
        "fit_wiki = Holt(df2_in['views']).fit(optimized=True)\n",
        "forecast_goog = fit_goog.forecast(12)\n",
        "forecast_wiki = fit_wiki.forecast(12)"
      ],
      "metadata": {
        "colab": {
          "base_uri": "https://localhost:8080/"
        },
        "id": "Me7rVBBWiXzm",
        "outputId": "7e36fb2c-0d89-4c63-aa63-45aa7d88dd5e"
      },
      "execution_count": 24,
      "outputs": [
        {
          "output_type": "stream",
          "name": "stderr",
          "text": [
            "/usr/local/lib/python3.7/dist-packages/statsmodels/tsa/holtwinters.py:712: ConvergenceWarning: Optimization failed to converge. Check mle_retvals.\n",
            "  ConvergenceWarning)\n"
          ]
        }
      ]
    },
    {
      "cell_type": "markdown",
      "source": [
        "# Dashboard prep"
      ],
      "metadata": {
        "id": "rrIRFQcVqL_B"
      }
    },
    {
      "cell_type": "code",
      "source": [
        "! pip install dash   \n",
        "! pip install dash-html-components                                         \n",
        "! pip install dash-core-components                                     \n",
        "! pip install plotly"
      ],
      "metadata": {
        "colab": {
          "base_uri": "https://localhost:8080/"
        },
        "id": "BPr32JgCstSW",
        "outputId": "651316ac-ab3d-4e4c-a419-7dbacce254f0"
      },
      "execution_count": 25,
      "outputs": [
        {
          "output_type": "stream",
          "name": "stdout",
          "text": [
            "Requirement already satisfied: dash in /usr/local/lib/python3.7/dist-packages (2.3.0)\n",
            "Requirement already satisfied: Flask>=1.0.4 in /usr/local/lib/python3.7/dist-packages (from dash) (1.1.4)\n",
            "Requirement already satisfied: dash-core-components==2.0.0 in /usr/local/lib/python3.7/dist-packages (from dash) (2.0.0)\n",
            "Requirement already satisfied: dash-table==5.0.0 in /usr/local/lib/python3.7/dist-packages (from dash) (5.0.0)\n",
            "Requirement already satisfied: dash-html-components==2.0.0 in /usr/local/lib/python3.7/dist-packages (from dash) (2.0.0)\n",
            "Requirement already satisfied: flask-compress in /usr/local/lib/python3.7/dist-packages (from dash) (1.11)\n",
            "Requirement already satisfied: plotly>=5.0.0 in /usr/local/lib/python3.7/dist-packages (from dash) (5.5.0)\n",
            "Requirement already satisfied: click<8.0,>=5.1 in /usr/local/lib/python3.7/dist-packages (from Flask>=1.0.4->dash) (7.1.2)\n",
            "Requirement already satisfied: Werkzeug<2.0,>=0.15 in /usr/local/lib/python3.7/dist-packages (from Flask>=1.0.4->dash) (1.0.1)\n",
            "Requirement already satisfied: Jinja2<3.0,>=2.10.1 in /usr/local/lib/python3.7/dist-packages (from Flask>=1.0.4->dash) (2.11.3)\n",
            "Requirement already satisfied: itsdangerous<2.0,>=0.24 in /usr/local/lib/python3.7/dist-packages (from Flask>=1.0.4->dash) (1.1.0)\n",
            "Requirement already satisfied: MarkupSafe>=0.23 in /usr/local/lib/python3.7/dist-packages (from Jinja2<3.0,>=2.10.1->Flask>=1.0.4->dash) (2.0.1)\n",
            "Requirement already satisfied: six in /usr/local/lib/python3.7/dist-packages (from plotly>=5.0.0->dash) (1.15.0)\n",
            "Requirement already satisfied: tenacity>=6.2.0 in /usr/local/lib/python3.7/dist-packages (from plotly>=5.0.0->dash) (8.0.1)\n",
            "Requirement already satisfied: brotli in /usr/local/lib/python3.7/dist-packages (from flask-compress->dash) (1.0.9)\n",
            "Requirement already satisfied: dash-html-components in /usr/local/lib/python3.7/dist-packages (2.0.0)\n",
            "Requirement already satisfied: dash-core-components in /usr/local/lib/python3.7/dist-packages (2.0.0)\n",
            "Requirement already satisfied: plotly in /usr/local/lib/python3.7/dist-packages (5.5.0)\n",
            "Requirement already satisfied: tenacity>=6.2.0 in /usr/local/lib/python3.7/dist-packages (from plotly) (8.0.1)\n",
            "Requirement already satisfied: six in /usr/local/lib/python3.7/dist-packages (from plotly) (1.15.0)\n"
          ]
        }
      ]
    },
    {
      "cell_type": "code",
      "source": [
        "fcast_dates = ['2022-03-01','2022-04-01','2022-05-01','2022-06-01','2022-07-01','2022-08-01','2022-09-01','2022-10-01','2022-11-01','2022-12-01','2023-01-01','2023-02-01']"
      ],
      "metadata": {
        "id": "0YnuywSpqO8s"
      },
      "execution_count": 26,
      "outputs": []
    },
    {
      "cell_type": "code",
      "source": [
        "df1_out = pd.DataFrame({'date': fcast_dates, 'Kraken':  forecast_goog}) \n",
        "df2_out = pd.DataFrame({'date': fcast_dates, 'views':  forecast_wiki})"
      ],
      "metadata": {
        "id": "LMvxL8lbinwU"
      },
      "execution_count": 27,
      "outputs": []
    },
    {
      "cell_type": "code",
      "source": [
        "df2_out.to_sql('wiki_forecast',  conn, if_exists='replace', index=False)\n",
        "df1_out.to_sql('goog_forecast',  conn, if_exists='replace', index=False)"
      ],
      "metadata": {
        "id": "6T9a1-OxmBcg"
      },
      "execution_count": 28,
      "outputs": []
    },
    {
      "cell_type": "code",
      "source": [
        "df2_in.to_sql('wiki_input',  conn, if_exists='replace', index=False)\n",
        "df1_in.to_sql('goog_input',  conn, if_exists='replace', index=False)"
      ],
      "metadata": {
        "id": "t5YFIewUp5Fg"
      },
      "execution_count": 29,
      "outputs": []
    },
    {
      "cell_type": "code",
      "source": [
        "wiki_query = '''\n",
        "SELECT * \n",
        "FROM wiki_input\n",
        "union\n",
        "SELECT * \n",
        "from wiki_forecast\n",
        "'''\n",
        "\n",
        "goog_query = '''\n",
        "SELECT * \n",
        "FROM goog_input\n",
        "union\n",
        "SELECT * \n",
        "from goog_forecast\n",
        "'''\n",
        "\n",
        "wiki_fin = pd.read_sql(wiki_query, conn )\n",
        "goog_fin = pd.read_sql(goog_query, conn )"
      ],
      "metadata": {
        "id": "9QviV0WlpqJZ"
      },
      "execution_count": 30,
      "outputs": []
    },
    {
      "cell_type": "code",
      "source": [
        "wiki_fin.to_csv('wiki.csv')\n",
        "goog_fin.to_csv('goog.csv')"
      ],
      "metadata": {
        "id": "lwzx27fFvcPr"
      },
      "execution_count": 31,
      "outputs": []
    },
    {
      "cell_type": "code",
      "source": [
        "wiki_fin"
      ],
      "metadata": {
        "colab": {
          "base_uri": "https://localhost:8080/",
          "height": 1000
        },
        "id": "ZLTyg1__Gi7x",
        "outputId": "62e86e12-a270-4db5-d715-b66e69c21bee"
      },
      "execution_count": 32,
      "outputs": [
        {
          "output_type": "execute_result",
          "data": {
            "text/plain": [
              "     temp_date          views\n",
              "0   2019-10-01   66833.000000\n",
              "1   2019-11-01   65284.000000\n",
              "2   2019-12-01   61757.000000\n",
              "3   2020-01-01   89528.000000\n",
              "4   2020-02-01   65809.000000\n",
              "5   2020-03-01   62899.000000\n",
              "6   2020-04-01   73262.000000\n",
              "7   2020-05-01   74209.000000\n",
              "8   2020-06-01   76217.000000\n",
              "9   2020-07-01  420186.000000\n",
              "10  2020-08-01   96096.000000\n",
              "11  2020-09-01   78180.000000\n",
              "12  2020-10-01   79766.000000\n",
              "13  2020-11-01  287424.000000\n",
              "14  2020-12-01  143815.000000\n",
              "15  2021-01-01  121715.000000\n",
              "16  2021-02-01   88538.000000\n",
              "17  2021-03-01   96368.000000\n",
              "18  2021-04-01   91035.000000\n",
              "19  2021-05-01  102023.000000\n",
              "20  2021-06-01   88764.000000\n",
              "21  2021-07-01  171954.000000\n",
              "22  2021-08-01  118955.000000\n",
              "23  2021-09-01   97431.000000\n",
              "24  2021-10-01  193557.000000\n",
              "25  2021-11-01   97117.000000\n",
              "26  2021-12-01   83254.000000\n",
              "27  2022-01-01   90766.000000\n",
              "28  2022-02-01   92369.000000\n",
              "29  2022-03-01  144274.523121\n",
              "30  2022-04-01  146850.766618\n",
              "31  2022-05-01  149427.010115\n",
              "32  2022-06-01  152003.253612\n",
              "33  2022-07-01  154579.497109\n",
              "34  2022-08-01  157155.740605\n",
              "35  2022-09-01  159731.984102\n",
              "36  2022-10-01  162308.227599\n",
              "37  2022-11-01  164884.471096\n",
              "38  2022-12-01  167460.714593\n",
              "39  2023-01-01  170036.958089\n",
              "40  2023-02-01  172613.201586"
            ],
            "text/html": [
              "\n",
              "  <div id=\"df-245386a7-4cf8-4e60-b525-331138b6807f\">\n",
              "    <div class=\"colab-df-container\">\n",
              "      <div>\n",
              "<style scoped>\n",
              "    .dataframe tbody tr th:only-of-type {\n",
              "        vertical-align: middle;\n",
              "    }\n",
              "\n",
              "    .dataframe tbody tr th {\n",
              "        vertical-align: top;\n",
              "    }\n",
              "\n",
              "    .dataframe thead th {\n",
              "        text-align: right;\n",
              "    }\n",
              "</style>\n",
              "<table border=\"1\" class=\"dataframe\">\n",
              "  <thead>\n",
              "    <tr style=\"text-align: right;\">\n",
              "      <th></th>\n",
              "      <th>temp_date</th>\n",
              "      <th>views</th>\n",
              "    </tr>\n",
              "  </thead>\n",
              "  <tbody>\n",
              "    <tr>\n",
              "      <th>0</th>\n",
              "      <td>2019-10-01</td>\n",
              "      <td>66833.000000</td>\n",
              "    </tr>\n",
              "    <tr>\n",
              "      <th>1</th>\n",
              "      <td>2019-11-01</td>\n",
              "      <td>65284.000000</td>\n",
              "    </tr>\n",
              "    <tr>\n",
              "      <th>2</th>\n",
              "      <td>2019-12-01</td>\n",
              "      <td>61757.000000</td>\n",
              "    </tr>\n",
              "    <tr>\n",
              "      <th>3</th>\n",
              "      <td>2020-01-01</td>\n",
              "      <td>89528.000000</td>\n",
              "    </tr>\n",
              "    <tr>\n",
              "      <th>4</th>\n",
              "      <td>2020-02-01</td>\n",
              "      <td>65809.000000</td>\n",
              "    </tr>\n",
              "    <tr>\n",
              "      <th>5</th>\n",
              "      <td>2020-03-01</td>\n",
              "      <td>62899.000000</td>\n",
              "    </tr>\n",
              "    <tr>\n",
              "      <th>6</th>\n",
              "      <td>2020-04-01</td>\n",
              "      <td>73262.000000</td>\n",
              "    </tr>\n",
              "    <tr>\n",
              "      <th>7</th>\n",
              "      <td>2020-05-01</td>\n",
              "      <td>74209.000000</td>\n",
              "    </tr>\n",
              "    <tr>\n",
              "      <th>8</th>\n",
              "      <td>2020-06-01</td>\n",
              "      <td>76217.000000</td>\n",
              "    </tr>\n",
              "    <tr>\n",
              "      <th>9</th>\n",
              "      <td>2020-07-01</td>\n",
              "      <td>420186.000000</td>\n",
              "    </tr>\n",
              "    <tr>\n",
              "      <th>10</th>\n",
              "      <td>2020-08-01</td>\n",
              "      <td>96096.000000</td>\n",
              "    </tr>\n",
              "    <tr>\n",
              "      <th>11</th>\n",
              "      <td>2020-09-01</td>\n",
              "      <td>78180.000000</td>\n",
              "    </tr>\n",
              "    <tr>\n",
              "      <th>12</th>\n",
              "      <td>2020-10-01</td>\n",
              "      <td>79766.000000</td>\n",
              "    </tr>\n",
              "    <tr>\n",
              "      <th>13</th>\n",
              "      <td>2020-11-01</td>\n",
              "      <td>287424.000000</td>\n",
              "    </tr>\n",
              "    <tr>\n",
              "      <th>14</th>\n",
              "      <td>2020-12-01</td>\n",
              "      <td>143815.000000</td>\n",
              "    </tr>\n",
              "    <tr>\n",
              "      <th>15</th>\n",
              "      <td>2021-01-01</td>\n",
              "      <td>121715.000000</td>\n",
              "    </tr>\n",
              "    <tr>\n",
              "      <th>16</th>\n",
              "      <td>2021-02-01</td>\n",
              "      <td>88538.000000</td>\n",
              "    </tr>\n",
              "    <tr>\n",
              "      <th>17</th>\n",
              "      <td>2021-03-01</td>\n",
              "      <td>96368.000000</td>\n",
              "    </tr>\n",
              "    <tr>\n",
              "      <th>18</th>\n",
              "      <td>2021-04-01</td>\n",
              "      <td>91035.000000</td>\n",
              "    </tr>\n",
              "    <tr>\n",
              "      <th>19</th>\n",
              "      <td>2021-05-01</td>\n",
              "      <td>102023.000000</td>\n",
              "    </tr>\n",
              "    <tr>\n",
              "      <th>20</th>\n",
              "      <td>2021-06-01</td>\n",
              "      <td>88764.000000</td>\n",
              "    </tr>\n",
              "    <tr>\n",
              "      <th>21</th>\n",
              "      <td>2021-07-01</td>\n",
              "      <td>171954.000000</td>\n",
              "    </tr>\n",
              "    <tr>\n",
              "      <th>22</th>\n",
              "      <td>2021-08-01</td>\n",
              "      <td>118955.000000</td>\n",
              "    </tr>\n",
              "    <tr>\n",
              "      <th>23</th>\n",
              "      <td>2021-09-01</td>\n",
              "      <td>97431.000000</td>\n",
              "    </tr>\n",
              "    <tr>\n",
              "      <th>24</th>\n",
              "      <td>2021-10-01</td>\n",
              "      <td>193557.000000</td>\n",
              "    </tr>\n",
              "    <tr>\n",
              "      <th>25</th>\n",
              "      <td>2021-11-01</td>\n",
              "      <td>97117.000000</td>\n",
              "    </tr>\n",
              "    <tr>\n",
              "      <th>26</th>\n",
              "      <td>2021-12-01</td>\n",
              "      <td>83254.000000</td>\n",
              "    </tr>\n",
              "    <tr>\n",
              "      <th>27</th>\n",
              "      <td>2022-01-01</td>\n",
              "      <td>90766.000000</td>\n",
              "    </tr>\n",
              "    <tr>\n",
              "      <th>28</th>\n",
              "      <td>2022-02-01</td>\n",
              "      <td>92369.000000</td>\n",
              "    </tr>\n",
              "    <tr>\n",
              "      <th>29</th>\n",
              "      <td>2022-03-01</td>\n",
              "      <td>144274.523121</td>\n",
              "    </tr>\n",
              "    <tr>\n",
              "      <th>30</th>\n",
              "      <td>2022-04-01</td>\n",
              "      <td>146850.766618</td>\n",
              "    </tr>\n",
              "    <tr>\n",
              "      <th>31</th>\n",
              "      <td>2022-05-01</td>\n",
              "      <td>149427.010115</td>\n",
              "    </tr>\n",
              "    <tr>\n",
              "      <th>32</th>\n",
              "      <td>2022-06-01</td>\n",
              "      <td>152003.253612</td>\n",
              "    </tr>\n",
              "    <tr>\n",
              "      <th>33</th>\n",
              "      <td>2022-07-01</td>\n",
              "      <td>154579.497109</td>\n",
              "    </tr>\n",
              "    <tr>\n",
              "      <th>34</th>\n",
              "      <td>2022-08-01</td>\n",
              "      <td>157155.740605</td>\n",
              "    </tr>\n",
              "    <tr>\n",
              "      <th>35</th>\n",
              "      <td>2022-09-01</td>\n",
              "      <td>159731.984102</td>\n",
              "    </tr>\n",
              "    <tr>\n",
              "      <th>36</th>\n",
              "      <td>2022-10-01</td>\n",
              "      <td>162308.227599</td>\n",
              "    </tr>\n",
              "    <tr>\n",
              "      <th>37</th>\n",
              "      <td>2022-11-01</td>\n",
              "      <td>164884.471096</td>\n",
              "    </tr>\n",
              "    <tr>\n",
              "      <th>38</th>\n",
              "      <td>2022-12-01</td>\n",
              "      <td>167460.714593</td>\n",
              "    </tr>\n",
              "    <tr>\n",
              "      <th>39</th>\n",
              "      <td>2023-01-01</td>\n",
              "      <td>170036.958089</td>\n",
              "    </tr>\n",
              "    <tr>\n",
              "      <th>40</th>\n",
              "      <td>2023-02-01</td>\n",
              "      <td>172613.201586</td>\n",
              "    </tr>\n",
              "  </tbody>\n",
              "</table>\n",
              "</div>\n",
              "      <button class=\"colab-df-convert\" onclick=\"convertToInteractive('df-245386a7-4cf8-4e60-b525-331138b6807f')\"\n",
              "              title=\"Convert this dataframe to an interactive table.\"\n",
              "              style=\"display:none;\">\n",
              "        \n",
              "  <svg xmlns=\"http://www.w3.org/2000/svg\" height=\"24px\"viewBox=\"0 0 24 24\"\n",
              "       width=\"24px\">\n",
              "    <path d=\"M0 0h24v24H0V0z\" fill=\"none\"/>\n",
              "    <path d=\"M18.56 5.44l.94 2.06.94-2.06 2.06-.94-2.06-.94-.94-2.06-.94 2.06-2.06.94zm-11 1L8.5 8.5l.94-2.06 2.06-.94-2.06-.94L8.5 2.5l-.94 2.06-2.06.94zm10 10l.94 2.06.94-2.06 2.06-.94-2.06-.94-.94-2.06-.94 2.06-2.06.94z\"/><path d=\"M17.41 7.96l-1.37-1.37c-.4-.4-.92-.59-1.43-.59-.52 0-1.04.2-1.43.59L10.3 9.45l-7.72 7.72c-.78.78-.78 2.05 0 2.83L4 21.41c.39.39.9.59 1.41.59.51 0 1.02-.2 1.41-.59l7.78-7.78 2.81-2.81c.8-.78.8-2.07 0-2.86zM5.41 20L4 18.59l7.72-7.72 1.47 1.35L5.41 20z\"/>\n",
              "  </svg>\n",
              "      </button>\n",
              "      \n",
              "  <style>\n",
              "    .colab-df-container {\n",
              "      display:flex;\n",
              "      flex-wrap:wrap;\n",
              "      gap: 12px;\n",
              "    }\n",
              "\n",
              "    .colab-df-convert {\n",
              "      background-color: #E8F0FE;\n",
              "      border: none;\n",
              "      border-radius: 50%;\n",
              "      cursor: pointer;\n",
              "      display: none;\n",
              "      fill: #1967D2;\n",
              "      height: 32px;\n",
              "      padding: 0 0 0 0;\n",
              "      width: 32px;\n",
              "    }\n",
              "\n",
              "    .colab-df-convert:hover {\n",
              "      background-color: #E2EBFA;\n",
              "      box-shadow: 0px 1px 2px rgba(60, 64, 67, 0.3), 0px 1px 3px 1px rgba(60, 64, 67, 0.15);\n",
              "      fill: #174EA6;\n",
              "    }\n",
              "\n",
              "    [theme=dark] .colab-df-convert {\n",
              "      background-color: #3B4455;\n",
              "      fill: #D2E3FC;\n",
              "    }\n",
              "\n",
              "    [theme=dark] .colab-df-convert:hover {\n",
              "      background-color: #434B5C;\n",
              "      box-shadow: 0px 1px 3px 1px rgba(0, 0, 0, 0.15);\n",
              "      filter: drop-shadow(0px 1px 2px rgba(0, 0, 0, 0.3));\n",
              "      fill: #FFFFFF;\n",
              "    }\n",
              "  </style>\n",
              "\n",
              "      <script>\n",
              "        const buttonEl =\n",
              "          document.querySelector('#df-245386a7-4cf8-4e60-b525-331138b6807f button.colab-df-convert');\n",
              "        buttonEl.style.display =\n",
              "          google.colab.kernel.accessAllowed ? 'block' : 'none';\n",
              "\n",
              "        async function convertToInteractive(key) {\n",
              "          const element = document.querySelector('#df-245386a7-4cf8-4e60-b525-331138b6807f');\n",
              "          const dataTable =\n",
              "            await google.colab.kernel.invokeFunction('convertToInteractive',\n",
              "                                                     [key], {});\n",
              "          if (!dataTable) return;\n",
              "\n",
              "          const docLinkHtml = 'Like what you see? Visit the ' +\n",
              "            '<a target=\"_blank\" href=https://colab.research.google.com/notebooks/data_table.ipynb>data table notebook</a>'\n",
              "            + ' to learn more about interactive tables.';\n",
              "          element.innerHTML = '';\n",
              "          dataTable['output_type'] = 'display_data';\n",
              "          await google.colab.output.renderOutput(dataTable, element);\n",
              "          const docLink = document.createElement('div');\n",
              "          docLink.innerHTML = docLinkHtml;\n",
              "          element.appendChild(docLink);\n",
              "        }\n",
              "      </script>\n",
              "    </div>\n",
              "  </div>\n",
              "  "
            ]
          },
          "metadata": {},
          "execution_count": 32
        }
      ]
    },
    {
      "cell_type": "code",
      "source": [
        "goog_fin"
      ],
      "metadata": {
        "colab": {
          "base_uri": "https://localhost:8080/",
          "height": 1000
        },
        "id": "vvQGv3MaGnk_",
        "outputId": "7cb5d733-35d7-427c-8a7e-4c379e7b20e2"
      },
      "execution_count": 33,
      "outputs": [
        {
          "output_type": "execute_result",
          "data": {
            "text/plain": [
              "     temp_date      Kraken\n",
              "0   2019-10-01  126.180000\n",
              "1   2019-11-01  146.190000\n",
              "2   2019-12-01  142.600000\n",
              "3   2020-01-01   72.770000\n",
              "4   2020-02-01  135.480000\n",
              "5   2020-03-01  159.670000\n",
              "6   2020-04-01  204.840000\n",
              "7   2020-05-01  236.160000\n",
              "8   2020-06-01  230.790000\n",
              "9   2020-07-01  223.720000\n",
              "10  2020-08-01  277.630000\n",
              "11  2020-09-01  236.880000\n",
              "12  2020-10-01  262.560000\n",
              "13  2020-11-01  323.340000\n",
              "14  2020-12-01  427.260000\n",
              "15  2021-01-01  149.080000\n",
              "16  2021-02-01  458.950000\n",
              "17  2021-03-01  370.290000\n",
              "18  2021-04-01  245.330000\n",
              "19  2021-05-01  378.880000\n",
              "20  2021-06-01  290.430000\n",
              "21  2021-07-01  263.770000\n",
              "22  2021-08-01  314.300000\n",
              "23  2021-09-01  188.350000\n",
              "24  2021-10-01  400.070000\n",
              "25  2021-11-01  471.710000\n",
              "26  2021-12-01  433.140000\n",
              "27  2022-01-01  455.380000\n",
              "28  2022-02-01  365.350000\n",
              "29  2022-03-01  411.198705\n",
              "30  2022-04-01  419.017621\n",
              "31  2022-05-01  426.836536\n",
              "32  2022-06-01  434.655451\n",
              "33  2022-07-01  442.474366\n",
              "34  2022-08-01  450.293281\n",
              "35  2022-09-01  458.112197\n",
              "36  2022-10-01  465.931112\n",
              "37  2022-11-01  473.750027\n",
              "38  2022-12-01  481.568942\n",
              "39  2023-01-01  489.387857\n",
              "40  2023-02-01  497.206773"
            ],
            "text/html": [
              "\n",
              "  <div id=\"df-36873e3a-8595-485f-bd7f-de923c6f64eb\">\n",
              "    <div class=\"colab-df-container\">\n",
              "      <div>\n",
              "<style scoped>\n",
              "    .dataframe tbody tr th:only-of-type {\n",
              "        vertical-align: middle;\n",
              "    }\n",
              "\n",
              "    .dataframe tbody tr th {\n",
              "        vertical-align: top;\n",
              "    }\n",
              "\n",
              "    .dataframe thead th {\n",
              "        text-align: right;\n",
              "    }\n",
              "</style>\n",
              "<table border=\"1\" class=\"dataframe\">\n",
              "  <thead>\n",
              "    <tr style=\"text-align: right;\">\n",
              "      <th></th>\n",
              "      <th>temp_date</th>\n",
              "      <th>Kraken</th>\n",
              "    </tr>\n",
              "  </thead>\n",
              "  <tbody>\n",
              "    <tr>\n",
              "      <th>0</th>\n",
              "      <td>2019-10-01</td>\n",
              "      <td>126.180000</td>\n",
              "    </tr>\n",
              "    <tr>\n",
              "      <th>1</th>\n",
              "      <td>2019-11-01</td>\n",
              "      <td>146.190000</td>\n",
              "    </tr>\n",
              "    <tr>\n",
              "      <th>2</th>\n",
              "      <td>2019-12-01</td>\n",
              "      <td>142.600000</td>\n",
              "    </tr>\n",
              "    <tr>\n",
              "      <th>3</th>\n",
              "      <td>2020-01-01</td>\n",
              "      <td>72.770000</td>\n",
              "    </tr>\n",
              "    <tr>\n",
              "      <th>4</th>\n",
              "      <td>2020-02-01</td>\n",
              "      <td>135.480000</td>\n",
              "    </tr>\n",
              "    <tr>\n",
              "      <th>5</th>\n",
              "      <td>2020-03-01</td>\n",
              "      <td>159.670000</td>\n",
              "    </tr>\n",
              "    <tr>\n",
              "      <th>6</th>\n",
              "      <td>2020-04-01</td>\n",
              "      <td>204.840000</td>\n",
              "    </tr>\n",
              "    <tr>\n",
              "      <th>7</th>\n",
              "      <td>2020-05-01</td>\n",
              "      <td>236.160000</td>\n",
              "    </tr>\n",
              "    <tr>\n",
              "      <th>8</th>\n",
              "      <td>2020-06-01</td>\n",
              "      <td>230.790000</td>\n",
              "    </tr>\n",
              "    <tr>\n",
              "      <th>9</th>\n",
              "      <td>2020-07-01</td>\n",
              "      <td>223.720000</td>\n",
              "    </tr>\n",
              "    <tr>\n",
              "      <th>10</th>\n",
              "      <td>2020-08-01</td>\n",
              "      <td>277.630000</td>\n",
              "    </tr>\n",
              "    <tr>\n",
              "      <th>11</th>\n",
              "      <td>2020-09-01</td>\n",
              "      <td>236.880000</td>\n",
              "    </tr>\n",
              "    <tr>\n",
              "      <th>12</th>\n",
              "      <td>2020-10-01</td>\n",
              "      <td>262.560000</td>\n",
              "    </tr>\n",
              "    <tr>\n",
              "      <th>13</th>\n",
              "      <td>2020-11-01</td>\n",
              "      <td>323.340000</td>\n",
              "    </tr>\n",
              "    <tr>\n",
              "      <th>14</th>\n",
              "      <td>2020-12-01</td>\n",
              "      <td>427.260000</td>\n",
              "    </tr>\n",
              "    <tr>\n",
              "      <th>15</th>\n",
              "      <td>2021-01-01</td>\n",
              "      <td>149.080000</td>\n",
              "    </tr>\n",
              "    <tr>\n",
              "      <th>16</th>\n",
              "      <td>2021-02-01</td>\n",
              "      <td>458.950000</td>\n",
              "    </tr>\n",
              "    <tr>\n",
              "      <th>17</th>\n",
              "      <td>2021-03-01</td>\n",
              "      <td>370.290000</td>\n",
              "    </tr>\n",
              "    <tr>\n",
              "      <th>18</th>\n",
              "      <td>2021-04-01</td>\n",
              "      <td>245.330000</td>\n",
              "    </tr>\n",
              "    <tr>\n",
              "      <th>19</th>\n",
              "      <td>2021-05-01</td>\n",
              "      <td>378.880000</td>\n",
              "    </tr>\n",
              "    <tr>\n",
              "      <th>20</th>\n",
              "      <td>2021-06-01</td>\n",
              "      <td>290.430000</td>\n",
              "    </tr>\n",
              "    <tr>\n",
              "      <th>21</th>\n",
              "      <td>2021-07-01</td>\n",
              "      <td>263.770000</td>\n",
              "    </tr>\n",
              "    <tr>\n",
              "      <th>22</th>\n",
              "      <td>2021-08-01</td>\n",
              "      <td>314.300000</td>\n",
              "    </tr>\n",
              "    <tr>\n",
              "      <th>23</th>\n",
              "      <td>2021-09-01</td>\n",
              "      <td>188.350000</td>\n",
              "    </tr>\n",
              "    <tr>\n",
              "      <th>24</th>\n",
              "      <td>2021-10-01</td>\n",
              "      <td>400.070000</td>\n",
              "    </tr>\n",
              "    <tr>\n",
              "      <th>25</th>\n",
              "      <td>2021-11-01</td>\n",
              "      <td>471.710000</td>\n",
              "    </tr>\n",
              "    <tr>\n",
              "      <th>26</th>\n",
              "      <td>2021-12-01</td>\n",
              "      <td>433.140000</td>\n",
              "    </tr>\n",
              "    <tr>\n",
              "      <th>27</th>\n",
              "      <td>2022-01-01</td>\n",
              "      <td>455.380000</td>\n",
              "    </tr>\n",
              "    <tr>\n",
              "      <th>28</th>\n",
              "      <td>2022-02-01</td>\n",
              "      <td>365.350000</td>\n",
              "    </tr>\n",
              "    <tr>\n",
              "      <th>29</th>\n",
              "      <td>2022-03-01</td>\n",
              "      <td>411.198705</td>\n",
              "    </tr>\n",
              "    <tr>\n",
              "      <th>30</th>\n",
              "      <td>2022-04-01</td>\n",
              "      <td>419.017621</td>\n",
              "    </tr>\n",
              "    <tr>\n",
              "      <th>31</th>\n",
              "      <td>2022-05-01</td>\n",
              "      <td>426.836536</td>\n",
              "    </tr>\n",
              "    <tr>\n",
              "      <th>32</th>\n",
              "      <td>2022-06-01</td>\n",
              "      <td>434.655451</td>\n",
              "    </tr>\n",
              "    <tr>\n",
              "      <th>33</th>\n",
              "      <td>2022-07-01</td>\n",
              "      <td>442.474366</td>\n",
              "    </tr>\n",
              "    <tr>\n",
              "      <th>34</th>\n",
              "      <td>2022-08-01</td>\n",
              "      <td>450.293281</td>\n",
              "    </tr>\n",
              "    <tr>\n",
              "      <th>35</th>\n",
              "      <td>2022-09-01</td>\n",
              "      <td>458.112197</td>\n",
              "    </tr>\n",
              "    <tr>\n",
              "      <th>36</th>\n",
              "      <td>2022-10-01</td>\n",
              "      <td>465.931112</td>\n",
              "    </tr>\n",
              "    <tr>\n",
              "      <th>37</th>\n",
              "      <td>2022-11-01</td>\n",
              "      <td>473.750027</td>\n",
              "    </tr>\n",
              "    <tr>\n",
              "      <th>38</th>\n",
              "      <td>2022-12-01</td>\n",
              "      <td>481.568942</td>\n",
              "    </tr>\n",
              "    <tr>\n",
              "      <th>39</th>\n",
              "      <td>2023-01-01</td>\n",
              "      <td>489.387857</td>\n",
              "    </tr>\n",
              "    <tr>\n",
              "      <th>40</th>\n",
              "      <td>2023-02-01</td>\n",
              "      <td>497.206773</td>\n",
              "    </tr>\n",
              "  </tbody>\n",
              "</table>\n",
              "</div>\n",
              "      <button class=\"colab-df-convert\" onclick=\"convertToInteractive('df-36873e3a-8595-485f-bd7f-de923c6f64eb')\"\n",
              "              title=\"Convert this dataframe to an interactive table.\"\n",
              "              style=\"display:none;\">\n",
              "        \n",
              "  <svg xmlns=\"http://www.w3.org/2000/svg\" height=\"24px\"viewBox=\"0 0 24 24\"\n",
              "       width=\"24px\">\n",
              "    <path d=\"M0 0h24v24H0V0z\" fill=\"none\"/>\n",
              "    <path d=\"M18.56 5.44l.94 2.06.94-2.06 2.06-.94-2.06-.94-.94-2.06-.94 2.06-2.06.94zm-11 1L8.5 8.5l.94-2.06 2.06-.94-2.06-.94L8.5 2.5l-.94 2.06-2.06.94zm10 10l.94 2.06.94-2.06 2.06-.94-2.06-.94-.94-2.06-.94 2.06-2.06.94z\"/><path d=\"M17.41 7.96l-1.37-1.37c-.4-.4-.92-.59-1.43-.59-.52 0-1.04.2-1.43.59L10.3 9.45l-7.72 7.72c-.78.78-.78 2.05 0 2.83L4 21.41c.39.39.9.59 1.41.59.51 0 1.02-.2 1.41-.59l7.78-7.78 2.81-2.81c.8-.78.8-2.07 0-2.86zM5.41 20L4 18.59l7.72-7.72 1.47 1.35L5.41 20z\"/>\n",
              "  </svg>\n",
              "      </button>\n",
              "      \n",
              "  <style>\n",
              "    .colab-df-container {\n",
              "      display:flex;\n",
              "      flex-wrap:wrap;\n",
              "      gap: 12px;\n",
              "    }\n",
              "\n",
              "    .colab-df-convert {\n",
              "      background-color: #E8F0FE;\n",
              "      border: none;\n",
              "      border-radius: 50%;\n",
              "      cursor: pointer;\n",
              "      display: none;\n",
              "      fill: #1967D2;\n",
              "      height: 32px;\n",
              "      padding: 0 0 0 0;\n",
              "      width: 32px;\n",
              "    }\n",
              "\n",
              "    .colab-df-convert:hover {\n",
              "      background-color: #E2EBFA;\n",
              "      box-shadow: 0px 1px 2px rgba(60, 64, 67, 0.3), 0px 1px 3px 1px rgba(60, 64, 67, 0.15);\n",
              "      fill: #174EA6;\n",
              "    }\n",
              "\n",
              "    [theme=dark] .colab-df-convert {\n",
              "      background-color: #3B4455;\n",
              "      fill: #D2E3FC;\n",
              "    }\n",
              "\n",
              "    [theme=dark] .colab-df-convert:hover {\n",
              "      background-color: #434B5C;\n",
              "      box-shadow: 0px 1px 3px 1px rgba(0, 0, 0, 0.15);\n",
              "      filter: drop-shadow(0px 1px 2px rgba(0, 0, 0, 0.3));\n",
              "      fill: #FFFFFF;\n",
              "    }\n",
              "  </style>\n",
              "\n",
              "      <script>\n",
              "        const buttonEl =\n",
              "          document.querySelector('#df-36873e3a-8595-485f-bd7f-de923c6f64eb button.colab-df-convert');\n",
              "        buttonEl.style.display =\n",
              "          google.colab.kernel.accessAllowed ? 'block' : 'none';\n",
              "\n",
              "        async function convertToInteractive(key) {\n",
              "          const element = document.querySelector('#df-36873e3a-8595-485f-bd7f-de923c6f64eb');\n",
              "          const dataTable =\n",
              "            await google.colab.kernel.invokeFunction('convertToInteractive',\n",
              "                                                     [key], {});\n",
              "          if (!dataTable) return;\n",
              "\n",
              "          const docLinkHtml = 'Like what you see? Visit the ' +\n",
              "            '<a target=\"_blank\" href=https://colab.research.google.com/notebooks/data_table.ipynb>data table notebook</a>'\n",
              "            + ' to learn more about interactive tables.';\n",
              "          element.innerHTML = '';\n",
              "          dataTable['output_type'] = 'display_data';\n",
              "          await google.colab.output.renderOutput(dataTable, element);\n",
              "          const docLink = document.createElement('div');\n",
              "          docLink.innerHTML = docLinkHtml;\n",
              "          element.appendChild(docLink);\n",
              "        }\n",
              "      </script>\n",
              "    </div>\n",
              "  </div>\n",
              "  "
            ]
          },
          "metadata": {},
          "execution_count": 33
        }
      ]
    }
  ]
}