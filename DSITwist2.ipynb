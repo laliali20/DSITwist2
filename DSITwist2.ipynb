{
  "nbformat": 4,
  "nbformat_minor": 0,
  "metadata": {
    "colab": {
      "name": "DSITwist2",
      "provenance": [],
      "collapsed_sections": [],
      "mount_file_id": "1IzcmZ5Ozk6kvHq42yjGkLYKyMOTC3MzV",
      "authorship_tag": "ABX9TyMUf8OXZmPjID6tMxNfj71F",
      "include_colab_link": true
    },
    "kernelspec": {
      "name": "python3",
      "display_name": "Python 3"
    },
    "language_info": {
      "name": "python"
    },
    "accelerator": "GPU"
  },
  "cells": [
    {
      "cell_type": "markdown",
      "metadata": {
        "id": "view-in-github",
        "colab_type": "text"
      },
      "source": [
        "<a href=\"https://colab.research.google.com/github/laliali20/DSITwist2/blob/main/DSITwist2.ipynb\" target=\"_parent\"><img src=\"https://colab.research.google.com/assets/colab-badge.svg\" alt=\"Open In Colab\"/></a>"
      ]
    },
    {
      "cell_type": "code",
      "source": [
        "!pip install pytrends "
      ],
      "metadata": {
        "id": "qhHt3Ll-T-qz",
        "colab": {
          "base_uri": "https://localhost:8080/"
        },
        "outputId": "b1432446-068e-430d-e05a-b5aee0099a9c"
      },
      "execution_count": 1,
      "outputs": [
        {
          "output_type": "stream",
          "name": "stdout",
          "text": [
            "Requirement already satisfied: pytrends in /usr/local/lib/python3.7/dist-packages (4.8.0)\n",
            "Requirement already satisfied: pandas>=0.25 in /usr/local/lib/python3.7/dist-packages (from pytrends) (1.3.5)\n",
            "Requirement already satisfied: lxml in /usr/local/lib/python3.7/dist-packages (from pytrends) (4.2.6)\n",
            "Requirement already satisfied: requests>=2.0 in /usr/local/lib/python3.7/dist-packages (from pytrends) (2.23.0)\n",
            "Requirement already satisfied: pytz>=2017.3 in /usr/local/lib/python3.7/dist-packages (from pandas>=0.25->pytrends) (2018.9)\n",
            "Requirement already satisfied: numpy>=1.17.3 in /usr/local/lib/python3.7/dist-packages (from pandas>=0.25->pytrends) (1.21.5)\n",
            "Requirement already satisfied: python-dateutil>=2.7.3 in /usr/local/lib/python3.7/dist-packages (from pandas>=0.25->pytrends) (2.8.2)\n",
            "Requirement already satisfied: six>=1.5 in /usr/local/lib/python3.7/dist-packages (from python-dateutil>=2.7.3->pandas>=0.25->pytrends) (1.15.0)\n",
            "Requirement already satisfied: idna<3,>=2.5 in /usr/local/lib/python3.7/dist-packages (from requests>=2.0->pytrends) (2.10)\n",
            "Requirement already satisfied: chardet<4,>=3.0.2 in /usr/local/lib/python3.7/dist-packages (from requests>=2.0->pytrends) (3.0.4)\n",
            "Requirement already satisfied: urllib3!=1.25.0,!=1.25.1,<1.26,>=1.21.1 in /usr/local/lib/python3.7/dist-packages (from requests>=2.0->pytrends) (1.24.3)\n",
            "Requirement already satisfied: certifi>=2017.4.17 in /usr/local/lib/python3.7/dist-packages (from requests>=2.0->pytrends) (2021.10.8)\n"
          ]
        }
      ]
    },
    {
      "cell_type": "code",
      "source": [
        "!pip install snscrape"
      ],
      "metadata": {
        "id": "xYfLX3L1UEe7",
        "colab": {
          "base_uri": "https://localhost:8080/"
        },
        "outputId": "20fbc10d-9c5e-4870-dabd-d18b1e539d26"
      },
      "execution_count": 2,
      "outputs": [
        {
          "output_type": "stream",
          "name": "stdout",
          "text": [
            "Requirement already satisfied: snscrape in /usr/local/lib/python3.7/dist-packages (0.3.4)\n",
            "Requirement already satisfied: requests[socks] in /usr/local/lib/python3.7/dist-packages (from snscrape) (2.23.0)\n",
            "Requirement already satisfied: beautifulsoup4 in /usr/local/lib/python3.7/dist-packages (from snscrape) (4.6.3)\n",
            "Requirement already satisfied: lxml in /usr/local/lib/python3.7/dist-packages (from snscrape) (4.2.6)\n",
            "Requirement already satisfied: urllib3!=1.25.0,!=1.25.1,<1.26,>=1.21.1 in /usr/local/lib/python3.7/dist-packages (from requests[socks]->snscrape) (1.24.3)\n",
            "Requirement already satisfied: certifi>=2017.4.17 in /usr/local/lib/python3.7/dist-packages (from requests[socks]->snscrape) (2021.10.8)\n",
            "Requirement already satisfied: chardet<4,>=3.0.2 in /usr/local/lib/python3.7/dist-packages (from requests[socks]->snscrape) (3.0.4)\n",
            "Requirement already satisfied: idna<3,>=2.5 in /usr/local/lib/python3.7/dist-packages (from requests[socks]->snscrape) (2.10)\n",
            "Requirement already satisfied: PySocks!=1.5.7,>=1.5.6 in /usr/local/lib/python3.7/dist-packages (from requests[socks]->snscrape) (1.7.1)\n"
          ]
        }
      ]
    },
    {
      "cell_type": "code",
      "source": [
        "!pip install pageviewapi"
      ],
      "metadata": {
        "id": "DBbCTSvPUH_7",
        "colab": {
          "base_uri": "https://localhost:8080/"
        },
        "outputId": "88e1a05c-0c06-4f89-91ee-71a9543175bc"
      },
      "execution_count": 3,
      "outputs": [
        {
          "output_type": "stream",
          "name": "stdout",
          "text": [
            "Requirement already satisfied: pageviewapi in /usr/local/lib/python3.7/dist-packages (0.4.0)\n",
            "Requirement already satisfied: attrdict in /usr/local/lib/python3.7/dist-packages (from pageviewapi) (2.0.1)\n",
            "Requirement already satisfied: requests in /usr/local/lib/python3.7/dist-packages (from pageviewapi) (2.23.0)\n",
            "Requirement already satisfied: six in /usr/local/lib/python3.7/dist-packages (from attrdict->pageviewapi) (1.15.0)\n",
            "Requirement already satisfied: certifi>=2017.4.17 in /usr/local/lib/python3.7/dist-packages (from requests->pageviewapi) (2021.10.8)\n",
            "Requirement already satisfied: idna<3,>=2.5 in /usr/local/lib/python3.7/dist-packages (from requests->pageviewapi) (2.10)\n",
            "Requirement already satisfied: chardet<4,>=3.0.2 in /usr/local/lib/python3.7/dist-packages (from requests->pageviewapi) (3.0.4)\n",
            "Requirement already satisfied: urllib3!=1.25.0,!=1.25.1,<1.26,>=1.21.1 in /usr/local/lib/python3.7/dist-packages (from requests->pageviewapi) (1.24.3)\n"
          ]
        }
      ]
    },
    {
      "cell_type": "code",
      "execution_count": 4,
      "metadata": {
        "id": "YdV2MwoLTY2V"
      },
      "outputs": [],
      "source": [
        "\n",
        "#%% Import modules\n",
        "import datetime\n",
        "import requests\n",
        "import pandas as pd\n",
        "from pytrends import dailydata\n",
        "import snscrape.modules.twitter as sntwitter\n",
        "import pageviewapi\n",
        "import numpy as np\n",
        "# import mysql.connector\n",
        "\n",
        "#%% Define scraping functions\n",
        "def get_google_trends_data(keyword, from_date, to_date):\n",
        "    \n",
        "    \"\"\"\n",
        "    Gets daily Google Trends for keyword.\n",
        "    Dates like: 'YYYY-MM-DD'\n",
        "    \"\"\"\n",
        "    \n",
        "    from_year, from_month = datetime.date.fromisoformat(from_date).year, datetime.date.fromisoformat(from_date).month\n",
        "    to_year, to_month = datetime.date.fromisoformat(to_date).year, datetime.date.fromisoformat(to_date).month\n",
        "\n",
        "    data = dailydata.get_daily_data(keyword, from_year, from_month, to_year, to_month)\n",
        "    \n",
        "    return data[keyword]\n",
        "\n",
        "\n",
        "def get_wikipedia_data(article, from_date, to_date):\n",
        "    \n",
        "    \"\"\"\n",
        "    Gets wikipedia article page views.\n",
        "    Dates like: 'YYYYMMDD'\n",
        "    \"\"\"\n",
        "    \n",
        "    response =  pageviewapi.per_article('en.wikipedia.org', article, from_date, to_date,\n",
        "                                        access = 'all-access', agent = 'all-agents', granularity = 'monthly')\n",
        "    \n",
        "    data = [x['views'] for x in response['items']]\n",
        "    dates = [x['timestamp'] for x in response['items']]\n",
        "    \n",
        "    return pd.DataFrame({'date': dates, 'views': data})\n",
        "\n",
        "\n",
        "# def get_twitter_data(keyword, from_date, to_date):\n",
        "    \n",
        "#     \"\"\"\n",
        "#     Gets twitter posts containing specific keyword.\n",
        "#     Dates like: 'YYYY-MM-DD'\n",
        "    \n",
        "#     \"\"\"\n",
        "#     # Creating list to append tweet data to\n",
        "#     counts_list = []\n",
        "#     dates_list = []\n",
        "    \n",
        "#     days = pd.date_range(start = from_date, end = to_date)\n",
        "    \n",
        "#     for i in range(len(days)-1):\n",
        "        \n",
        "#         # Using TwitterSearchScraper to count daily tweets\n",
        "#         daily_count = 0\n",
        "#         for item in sntwitter.TwitterSearchScraper(keyword + ' since:' + str(days[i].date()) + ' until:' + str(days[i+1].date())).get_items():\n",
        "#             daily_count = daily_count + 1\n",
        "        \n",
        "#         print(\"Day\", str(days[i].date()), \"had:\", daily_count, \". Going to next day...\")\n",
        "        \n",
        "#         dates_list.append(days[i].date())\n",
        "#         counts_list.append(daily_count)\n",
        "        \n",
        "#     return pd.DataFrame({'date': dates_list, 'tweets': counts_list})\n",
        "    "
      ]
    },
    {
      "cell_type": "code",
      "source": [
        "\n",
        "#%% Scrape desired data (might take a while)\n",
        "\n",
        "# Get Google data and save them\n",
        "google = get_google_trends_data('Kraken', '2019-10-01', '2022-02-28')\n",
        "google.to_csv('google_data.csv')\n",
        "\n"
      ],
      "metadata": {
        "colab": {
          "base_uri": "https://localhost:8080/"
        },
        "id": "xf2Js29jTefU",
        "outputId": "a919a4ac-a181-4f4c-efe1-36805d9b53cd"
      },
      "execution_count": 5,
      "outputs": [
        {
          "output_type": "stream",
          "name": "stdout",
          "text": [
            "Kraken:2019-10-01 2019-10-31\n",
            "Kraken:2019-11-01 2019-11-30\n",
            "Kraken:2019-12-01 2019-12-31\n",
            "Kraken:2020-01-01 2020-01-31\n",
            "Kraken:2020-02-01 2020-02-29\n",
            "Kraken:2020-03-01 2020-03-31\n",
            "Kraken:2020-04-01 2020-04-30\n",
            "Kraken:2020-05-01 2020-05-31\n",
            "Kraken:2020-06-01 2020-06-30\n",
            "Kraken:2020-07-01 2020-07-31\n",
            "Kraken:2020-08-01 2020-08-31\n",
            "Kraken:2020-09-01 2020-09-30\n",
            "Kraken:2020-10-01 2020-10-31\n",
            "Kraken:2020-11-01 2020-11-30\n",
            "Kraken:2020-12-01 2020-12-31\n",
            "Kraken:2021-01-01 2021-01-31\n",
            "Kraken:2021-02-01 2021-02-28\n",
            "Kraken:2021-03-01 2021-03-31\n",
            "Kraken:2021-04-01 2021-04-30\n",
            "Kraken:2021-05-01 2021-05-31\n",
            "Kraken:2021-06-01 2021-06-30\n",
            "Kraken:2021-07-01 2021-07-31\n",
            "Kraken:2021-08-01 2021-08-31\n",
            "Kraken:2021-09-01 2021-09-30\n",
            "Kraken:2021-10-01 2021-10-31\n",
            "Kraken:2021-11-01 2021-11-30\n",
            "Kraken:2021-12-01 2021-12-31\n",
            "Kraken:2022-01-01 2022-01-31\n",
            "Kraken:2022-02-01 2022-02-28\n"
          ]
        }
      ]
    },
    {
      "cell_type": "code",
      "source": [
        "# Get Wikipedia data and save them\n",
        "wikipedia = get_wikipedia_data('Kraken', '20191001', '20220228')\n",
        "wikipedia.to_csv('wikipedia_data.csv')"
      ],
      "metadata": {
        "id": "2v7VYTffeW09"
      },
      "execution_count": 6,
      "outputs": []
    },
    {
      "cell_type": "code",
      "source": [
        "# build db\n",
        "\n",
        "import sqlite3\n",
        "sqlite3.connect('db_dsi_twist')\n",
        "\n",
        "conn = sqlite3.connect('db_dsi_twist') \n",
        "c = conn.cursor()\n",
        "\n",
        "c.execute('''\n",
        "          CREATE TABLE IF NOT EXISTS google\n",
        "          (date date, mentions)\n",
        "          ''')\n",
        "          \n",
        "c.execute('''\n",
        "          CREATE TABLE IF NOT EXISTS wikipedia\n",
        "          (dateid , mentions)\n",
        "          ''')\n",
        "                     \n",
        "conn.commit()"
      ],
      "metadata": {
        "id": "eQw6fkiNer_7"
      },
      "execution_count": 7,
      "outputs": []
    },
    {
      "cell_type": "code",
      "source": [
        "from sqlalchemy import create_engine\n",
        "dateparse = lambda x: datetime.datetime.strptime(x, '%Y-%m-%d')\n",
        "df_google = pd.read_csv('/content/google_data.csv', sep = ',', parse_dates=['date'], date_parser=dateparse)\n",
        "df_wiki = pd.read_csv('/content/wikipedia_data.csv', sep = ',')\n",
        "\n",
        "df_google.to_sql('google_data',  conn, if_exists='replace', index=False)\n",
        "df_wiki.to_sql('wiki_data',  conn, if_exists='replace', index=False)"
      ],
      "metadata": {
        "colab": {
          "base_uri": "https://localhost:8080/"
        },
        "id": "GLu_4YgKzuPC",
        "outputId": "8bb8d4a5-ae91-418b-ba09-0f9ef842c981"
      },
      "execution_count": 8,
      "outputs": [
        {
          "output_type": "stream",
          "name": "stderr",
          "text": [
            "/usr/local/lib/python3.7/dist-packages/pandas/core/generic.py:2882: UserWarning: The spaces in these column names will not be changed. In pandas versions < 0.14, spaces were converted to underscores.\n",
            "  method=method,\n"
          ]
        }
      ]
    },
    {
      "cell_type": "code",
      "source": [
        "google_query = '''\n",
        "select * \n",
        "from google_data\n",
        "'''\n",
        "\n",
        "wiki_query = '''\n",
        "select * \n",
        "from wiki_data\n",
        "'''\n",
        "\n",
        "df1 = pd.read_sql(google_query, conn )\n",
        "df2 = pd.read_sql(wiki_query, conn)\n",
        "df2"
      ],
      "metadata": {
        "colab": {
          "base_uri": "https://localhost:8080/",
          "height": 958
        },
        "id": "4HR5abLL0TfJ",
        "outputId": "58e47161-6029-4f69-85e6-11e13ad5bd2a"
      },
      "execution_count": 9,
      "outputs": [
        {
          "output_type": "execute_result",
          "data": {
            "text/plain": [
              "    Unnamed: 0        date   views\n",
              "0            0  2019100100   66833\n",
              "1            1  2019110100   65284\n",
              "2            2  2019120100   61757\n",
              "3            3  2020010100   89528\n",
              "4            4  2020020100   65809\n",
              "5            5  2020030100   62899\n",
              "6            6  2020040100   73262\n",
              "7            7  2020050100   74209\n",
              "8            8  2020060100   76217\n",
              "9            9  2020070100  420186\n",
              "10          10  2020080100   96096\n",
              "11          11  2020090100   78180\n",
              "12          12  2020100100   79766\n",
              "13          13  2020110100  287424\n",
              "14          14  2020120100  143815\n",
              "15          15  2021010100  121715\n",
              "16          16  2021020100   88538\n",
              "17          17  2021030100   96368\n",
              "18          18  2021040100   91035\n",
              "19          19  2021050100  102023\n",
              "20          20  2021060100   88764\n",
              "21          21  2021070100  171954\n",
              "22          22  2021080100  118955\n",
              "23          23  2021090100   97431\n",
              "24          24  2021100100  193557\n",
              "25          25  2021110100   97117\n",
              "26          26  2021120100   83254\n",
              "27          27  2022010100   90766\n",
              "28          28  2022020100   92369"
            ],
            "text/html": [
              "\n",
              "  <div id=\"df-062d392c-7b40-4393-bc63-2468c0867cb0\">\n",
              "    <div class=\"colab-df-container\">\n",
              "      <div>\n",
              "<style scoped>\n",
              "    .dataframe tbody tr th:only-of-type {\n",
              "        vertical-align: middle;\n",
              "    }\n",
              "\n",
              "    .dataframe tbody tr th {\n",
              "        vertical-align: top;\n",
              "    }\n",
              "\n",
              "    .dataframe thead th {\n",
              "        text-align: right;\n",
              "    }\n",
              "</style>\n",
              "<table border=\"1\" class=\"dataframe\">\n",
              "  <thead>\n",
              "    <tr style=\"text-align: right;\">\n",
              "      <th></th>\n",
              "      <th>Unnamed: 0</th>\n",
              "      <th>date</th>\n",
              "      <th>views</th>\n",
              "    </tr>\n",
              "  </thead>\n",
              "  <tbody>\n",
              "    <tr>\n",
              "      <th>0</th>\n",
              "      <td>0</td>\n",
              "      <td>2019100100</td>\n",
              "      <td>66833</td>\n",
              "    </tr>\n",
              "    <tr>\n",
              "      <th>1</th>\n",
              "      <td>1</td>\n",
              "      <td>2019110100</td>\n",
              "      <td>65284</td>\n",
              "    </tr>\n",
              "    <tr>\n",
              "      <th>2</th>\n",
              "      <td>2</td>\n",
              "      <td>2019120100</td>\n",
              "      <td>61757</td>\n",
              "    </tr>\n",
              "    <tr>\n",
              "      <th>3</th>\n",
              "      <td>3</td>\n",
              "      <td>2020010100</td>\n",
              "      <td>89528</td>\n",
              "    </tr>\n",
              "    <tr>\n",
              "      <th>4</th>\n",
              "      <td>4</td>\n",
              "      <td>2020020100</td>\n",
              "      <td>65809</td>\n",
              "    </tr>\n",
              "    <tr>\n",
              "      <th>5</th>\n",
              "      <td>5</td>\n",
              "      <td>2020030100</td>\n",
              "      <td>62899</td>\n",
              "    </tr>\n",
              "    <tr>\n",
              "      <th>6</th>\n",
              "      <td>6</td>\n",
              "      <td>2020040100</td>\n",
              "      <td>73262</td>\n",
              "    </tr>\n",
              "    <tr>\n",
              "      <th>7</th>\n",
              "      <td>7</td>\n",
              "      <td>2020050100</td>\n",
              "      <td>74209</td>\n",
              "    </tr>\n",
              "    <tr>\n",
              "      <th>8</th>\n",
              "      <td>8</td>\n",
              "      <td>2020060100</td>\n",
              "      <td>76217</td>\n",
              "    </tr>\n",
              "    <tr>\n",
              "      <th>9</th>\n",
              "      <td>9</td>\n",
              "      <td>2020070100</td>\n",
              "      <td>420186</td>\n",
              "    </tr>\n",
              "    <tr>\n",
              "      <th>10</th>\n",
              "      <td>10</td>\n",
              "      <td>2020080100</td>\n",
              "      <td>96096</td>\n",
              "    </tr>\n",
              "    <tr>\n",
              "      <th>11</th>\n",
              "      <td>11</td>\n",
              "      <td>2020090100</td>\n",
              "      <td>78180</td>\n",
              "    </tr>\n",
              "    <tr>\n",
              "      <th>12</th>\n",
              "      <td>12</td>\n",
              "      <td>2020100100</td>\n",
              "      <td>79766</td>\n",
              "    </tr>\n",
              "    <tr>\n",
              "      <th>13</th>\n",
              "      <td>13</td>\n",
              "      <td>2020110100</td>\n",
              "      <td>287424</td>\n",
              "    </tr>\n",
              "    <tr>\n",
              "      <th>14</th>\n",
              "      <td>14</td>\n",
              "      <td>2020120100</td>\n",
              "      <td>143815</td>\n",
              "    </tr>\n",
              "    <tr>\n",
              "      <th>15</th>\n",
              "      <td>15</td>\n",
              "      <td>2021010100</td>\n",
              "      <td>121715</td>\n",
              "    </tr>\n",
              "    <tr>\n",
              "      <th>16</th>\n",
              "      <td>16</td>\n",
              "      <td>2021020100</td>\n",
              "      <td>88538</td>\n",
              "    </tr>\n",
              "    <tr>\n",
              "      <th>17</th>\n",
              "      <td>17</td>\n",
              "      <td>2021030100</td>\n",
              "      <td>96368</td>\n",
              "    </tr>\n",
              "    <tr>\n",
              "      <th>18</th>\n",
              "      <td>18</td>\n",
              "      <td>2021040100</td>\n",
              "      <td>91035</td>\n",
              "    </tr>\n",
              "    <tr>\n",
              "      <th>19</th>\n",
              "      <td>19</td>\n",
              "      <td>2021050100</td>\n",
              "      <td>102023</td>\n",
              "    </tr>\n",
              "    <tr>\n",
              "      <th>20</th>\n",
              "      <td>20</td>\n",
              "      <td>2021060100</td>\n",
              "      <td>88764</td>\n",
              "    </tr>\n",
              "    <tr>\n",
              "      <th>21</th>\n",
              "      <td>21</td>\n",
              "      <td>2021070100</td>\n",
              "      <td>171954</td>\n",
              "    </tr>\n",
              "    <tr>\n",
              "      <th>22</th>\n",
              "      <td>22</td>\n",
              "      <td>2021080100</td>\n",
              "      <td>118955</td>\n",
              "    </tr>\n",
              "    <tr>\n",
              "      <th>23</th>\n",
              "      <td>23</td>\n",
              "      <td>2021090100</td>\n",
              "      <td>97431</td>\n",
              "    </tr>\n",
              "    <tr>\n",
              "      <th>24</th>\n",
              "      <td>24</td>\n",
              "      <td>2021100100</td>\n",
              "      <td>193557</td>\n",
              "    </tr>\n",
              "    <tr>\n",
              "      <th>25</th>\n",
              "      <td>25</td>\n",
              "      <td>2021110100</td>\n",
              "      <td>97117</td>\n",
              "    </tr>\n",
              "    <tr>\n",
              "      <th>26</th>\n",
              "      <td>26</td>\n",
              "      <td>2021120100</td>\n",
              "      <td>83254</td>\n",
              "    </tr>\n",
              "    <tr>\n",
              "      <th>27</th>\n",
              "      <td>27</td>\n",
              "      <td>2022010100</td>\n",
              "      <td>90766</td>\n",
              "    </tr>\n",
              "    <tr>\n",
              "      <th>28</th>\n",
              "      <td>28</td>\n",
              "      <td>2022020100</td>\n",
              "      <td>92369</td>\n",
              "    </tr>\n",
              "  </tbody>\n",
              "</table>\n",
              "</div>\n",
              "      <button class=\"colab-df-convert\" onclick=\"convertToInteractive('df-062d392c-7b40-4393-bc63-2468c0867cb0')\"\n",
              "              title=\"Convert this dataframe to an interactive table.\"\n",
              "              style=\"display:none;\">\n",
              "        \n",
              "  <svg xmlns=\"http://www.w3.org/2000/svg\" height=\"24px\"viewBox=\"0 0 24 24\"\n",
              "       width=\"24px\">\n",
              "    <path d=\"M0 0h24v24H0V0z\" fill=\"none\"/>\n",
              "    <path d=\"M18.56 5.44l.94 2.06.94-2.06 2.06-.94-2.06-.94-.94-2.06-.94 2.06-2.06.94zm-11 1L8.5 8.5l.94-2.06 2.06-.94-2.06-.94L8.5 2.5l-.94 2.06-2.06.94zm10 10l.94 2.06.94-2.06 2.06-.94-2.06-.94-.94-2.06-.94 2.06-2.06.94z\"/><path d=\"M17.41 7.96l-1.37-1.37c-.4-.4-.92-.59-1.43-.59-.52 0-1.04.2-1.43.59L10.3 9.45l-7.72 7.72c-.78.78-.78 2.05 0 2.83L4 21.41c.39.39.9.59 1.41.59.51 0 1.02-.2 1.41-.59l7.78-7.78 2.81-2.81c.8-.78.8-2.07 0-2.86zM5.41 20L4 18.59l7.72-7.72 1.47 1.35L5.41 20z\"/>\n",
              "  </svg>\n",
              "      </button>\n",
              "      \n",
              "  <style>\n",
              "    .colab-df-container {\n",
              "      display:flex;\n",
              "      flex-wrap:wrap;\n",
              "      gap: 12px;\n",
              "    }\n",
              "\n",
              "    .colab-df-convert {\n",
              "      background-color: #E8F0FE;\n",
              "      border: none;\n",
              "      border-radius: 50%;\n",
              "      cursor: pointer;\n",
              "      display: none;\n",
              "      fill: #1967D2;\n",
              "      height: 32px;\n",
              "      padding: 0 0 0 0;\n",
              "      width: 32px;\n",
              "    }\n",
              "\n",
              "    .colab-df-convert:hover {\n",
              "      background-color: #E2EBFA;\n",
              "      box-shadow: 0px 1px 2px rgba(60, 64, 67, 0.3), 0px 1px 3px 1px rgba(60, 64, 67, 0.15);\n",
              "      fill: #174EA6;\n",
              "    }\n",
              "\n",
              "    [theme=dark] .colab-df-convert {\n",
              "      background-color: #3B4455;\n",
              "      fill: #D2E3FC;\n",
              "    }\n",
              "\n",
              "    [theme=dark] .colab-df-convert:hover {\n",
              "      background-color: #434B5C;\n",
              "      box-shadow: 0px 1px 3px 1px rgba(0, 0, 0, 0.15);\n",
              "      filter: drop-shadow(0px 1px 2px rgba(0, 0, 0, 0.3));\n",
              "      fill: #FFFFFF;\n",
              "    }\n",
              "  </style>\n",
              "\n",
              "      <script>\n",
              "        const buttonEl =\n",
              "          document.querySelector('#df-062d392c-7b40-4393-bc63-2468c0867cb0 button.colab-df-convert');\n",
              "        buttonEl.style.display =\n",
              "          google.colab.kernel.accessAllowed ? 'block' : 'none';\n",
              "\n",
              "        async function convertToInteractive(key) {\n",
              "          const element = document.querySelector('#df-062d392c-7b40-4393-bc63-2468c0867cb0');\n",
              "          const dataTable =\n",
              "            await google.colab.kernel.invokeFunction('convertToInteractive',\n",
              "                                                     [key], {});\n",
              "          if (!dataTable) return;\n",
              "\n",
              "          const docLinkHtml = 'Like what you see? Visit the ' +\n",
              "            '<a target=\"_blank\" href=https://colab.research.google.com/notebooks/data_table.ipynb>data table notebook</a>'\n",
              "            + ' to learn more about interactive tables.';\n",
              "          element.innerHTML = '';\n",
              "          dataTable['output_type'] = 'display_data';\n",
              "          await google.colab.output.renderOutput(dataTable, element);\n",
              "          const docLink = document.createElement('div');\n",
              "          docLink.innerHTML = docLinkHtml;\n",
              "          element.appendChild(docLink);\n",
              "        }\n",
              "      </script>\n",
              "    </div>\n",
              "  </div>\n",
              "  "
            ]
          },
          "metadata": {},
          "execution_count": 9
        }
      ]
    },
    {
      "cell_type": "code",
      "source": [
        "# forecast input\n",
        "std_date = lambda x: str(str(x)[0:4]) + \"-\" + str(str(x)[4:6]) + \"-01\"\n",
        "std_date2 = lambda x: str(str(x)[0:7]) + \"-01\"\n",
        "df2['temp_date'] = df2['date'].apply(std_date)\n",
        "df1['temp_date'] = df1['date'].apply(std_date2)\n",
        "df1_in = df1.groupby('temp_date').agg({'Kraken':'sum'}).sort_values('temp_date').reset_index()\n",
        "df2_in = df2.groupby('temp_date').agg({'views':'sum'}).sort_values('temp_date').reset_index()"
      ],
      "metadata": {
        "id": "3UnsMR692Kea"
      },
      "execution_count": 10,
      "outputs": []
    },
    {
      "cell_type": "code",
      "source": [
        "holdout = len(df1_in) - 12\n",
        "nobs_train = [i for i in range(0, holdout)]\n",
        "nobs_test = [i for i in range(holdout, len(df1_in))]\n",
        "train_goog = df1_in.iloc[nobs_train]\n",
        "test_goog = df1_in.iloc[nobs_test]"
      ],
      "metadata": {
        "id": "8cQhl0KuWz60"
      },
      "execution_count": 11,
      "outputs": []
    },
    {
      "cell_type": "code",
      "source": [
        "from statsmodels.stats.stattools import durbin_watson\n",
        "from statsmodels.tsa.api import Holt\n",
        "from statsmodels.tsa.stattools import adfuller\n",
        "\n",
        "\n",
        "def adfuller_test(series, signif=0.05, name='', verbose=False):\n",
        "    r = adfuller(series, autolag='AIC')\n",
        "    output = {'test_statistic':round(r[0], 4), 'pvalue':round(r[1], 4), 'n_lags':round(r[2], 4), 'n_obs':r[3]}\n",
        "    p_value = output['pvalue'] \n",
        "    def adjust(val, length= 6): return str(val).ljust(length)\n",
        "\n",
        "    # Print Summary\n",
        "    print(f'    Augmented Dickey-Fuller Test on \"{name}\"', \"\\n   \", '-'*47)\n",
        "    print(f' Null Hypothesis: Data has unit root. Non-Stationary.')\n",
        "    print(f' Significance Level    = {signif}')\n",
        "    print(f' Test Statistic        = {output[\"test_statistic\"]}')\n",
        "    print(f' No. Lags Chosen       = {output[\"n_lags\"]}')\n",
        "\n",
        "    for key,val in r[4].items():\n",
        "        print(f' Critical value {adjust(key)} = {round(val, 3)}')\n",
        "\n",
        "    if p_value <= signif:\n",
        "        print(f\" => P-Value = {p_value}. Rejecting Null Hypothesis.\")\n",
        "        print(f\" => Series is Stationary.\")\n",
        "    else:\n",
        "        print(f\" => P-Value = {p_value}. Weak evidence to reject the Null Hypothesis.\")\n",
        "        print(f\" => Series is Non-Stationary.\") "
      ],
      "metadata": {
        "colab": {
          "base_uri": "https://localhost:8080/"
        },
        "id": "fGkPp6cPaE70",
        "outputId": "ac063649-91db-4da6-b589-b2d3f33f8416"
      },
      "execution_count": 12,
      "outputs": [
        {
          "output_type": "stream",
          "name": "stderr",
          "text": [
            "/usr/local/lib/python3.7/dist-packages/statsmodels/tools/_testing.py:19: FutureWarning: pandas.util.testing is deprecated. Use the functions in the public API at pandas.testing instead.\n",
            "  import pandas.util.testing as tm\n"
          ]
        }
      ]
    },
    {
      "cell_type": "code",
      "source": [
        "adfuller_test(df1_in['Kraken'].to_list())"
      ],
      "metadata": {
        "colab": {
          "base_uri": "https://localhost:8080/"
        },
        "id": "2tYQyOweaMvE",
        "outputId": "83e497ab-9d7c-476e-fd65-aa869403b8f3"
      },
      "execution_count": 13,
      "outputs": [
        {
          "output_type": "stream",
          "name": "stdout",
          "text": [
            "    Augmented Dickey-Fuller Test on \"\" \n",
            "    -----------------------------------------------\n",
            " Null Hypothesis: Data has unit root. Non-Stationary.\n",
            " Significance Level    = 0.05\n",
            " Test Statistic        = -2.9584\n",
            " No. Lags Chosen       = 0\n",
            " Critical value 1%     = -3.689\n",
            " Critical value 5%     = -2.972\n",
            " Critical value 10%    = -2.625\n",
            " => P-Value = 0.039. Rejecting Null Hypothesis.\n",
            " => Series is Stationary.\n"
          ]
        }
      ]
    },
    {
      "cell_type": "code",
      "source": [
        "import matplotlib.pyplot as plt\n",
        "\n",
        "plt.plot(df1_in['Kraken'])\n",
        "plt.show()"
      ],
      "metadata": {
        "colab": {
          "base_uri": "https://localhost:8080/",
          "height": 265
        },
        "id": "G2jTNEs5V-mM",
        "outputId": "e26487a6-3d00-493d-b42c-3deb45ab20a0"
      },
      "execution_count": 14,
      "outputs": [
        {
          "output_type": "display_data",
          "data": {
            "text/plain": [
              "<Figure size 432x288 with 1 Axes>"
            ],
            "image/png": "[encoded data removed]"
          },
          "metadata": {
            "needs_background": "light"
          }
        }
      ]
    },
    {
      "cell_type": "code",
      "source": [
        "plt.plot(df2_in['views'])\n",
        "plt.show()"
      ],
      "metadata": {
        "colab": {
          "base_uri": "https://localhost:8080/",
          "height": 265
        },
        "id": "JEpyZE4qbuXX",
        "outputId": "6a55c9fd-2f9b-470e-8e8e-a3072811264d"
      },
      "execution_count": 15,
      "outputs": [
        {
          "output_type": "display_data",
          "data": {
            "text/plain": [
              "<Figure size 432x288 with 1 Axes>"
            ],
            "image/png": "[encoded data removed]"
          },
          "metadata": {
            "needs_background": "light"
          }
        }
      ]
    },
    {
      "cell_type": "code",
      "source": [
        "adfuller_test(df2_in['views'].to_list())"
      ],
      "metadata": {
        "colab": {
          "base_uri": "https://localhost:8080/"
        },
        "id": "At4TCDxtb1ka",
        "outputId": "a94e9c12-3db3-4c1b-c0f1-a736afd4a6aa"
      },
      "execution_count": 16,
      "outputs": [
        {
          "output_type": "stream",
          "name": "stdout",
          "text": [
            "    Augmented Dickey-Fuller Test on \"\" \n",
            "    -----------------------------------------------\n",
            " Null Hypothesis: Data has unit root. Non-Stationary.\n",
            " Significance Level    = 0.05\n",
            " Test Statistic        = -2.1743\n",
            " No. Lags Chosen       = 3\n",
            " Critical value 1%     = -3.724\n",
            " Critical value 5%     = -2.986\n",
            " Critical value 10%    = -2.633\n",
            " => P-Value = 0.2157. Weak evidence to reject the Null Hypothesis.\n",
            " => Series is Non-Stationary.\n"
          ]
        }
      ]
    },
    {
      "cell_type": "code",
      "source": [
        "fit_goog_test = Holt(train_goog['Kraken']).fit(optimized=True)\n",
        "fcast_goog_test = fit_goog_test.forecast(12)"
      ],
      "metadata": {
        "colab": {
          "base_uri": "https://localhost:8080/"
        },
        "id": "T7sxyQ4KcFSO",
        "outputId": "621fbdee-2e48-42ac-8b3f-54f9b7188e80"
      },
      "execution_count": 17,
      "outputs": [
        {
          "output_type": "stream",
          "name": "stderr",
          "text": [
            "/usr/local/lib/python3.7/dist-packages/statsmodels/tsa/holtwinters.py:712: ConvergenceWarning: Optimization failed to converge. Check mle_retvals.\n",
            "  ConvergenceWarning)\n"
          ]
        }
      ]
    },
    {
      "cell_type": "code",
      "source": [
        "def compute_MAPE(act, fcast):\n",
        "  err = np.zeros(len(act))\n",
        "  for i in range(len(act)):\n",
        "    err[i] = (abs(act[i] - fcast[i]))/act[i]\n",
        "  return err.mean()"
      ],
      "metadata": {
        "id": "ar-ON8umeHWg"
      },
      "execution_count": 18,
      "outputs": []
    },
    {
      "cell_type": "markdown",
      "source": [
        "# Wikipedia views"
      ],
      "metadata": {
        "id": "EFyfRM2Lfx0B"
      }
    },
    {
      "cell_type": "code",
      "source": [
        "holdout = len(df1_in) - 12\n",
        "nobs_train = [i for i in range(0, holdout)]\n",
        "nobs_test = [i for i in range(holdout, len(df1_in))]\n",
        "train_wiki = df2_in.iloc[nobs_train]\n",
        "test_wiki = df2_in.iloc[nobs_test]"
      ],
      "metadata": {
        "id": "ys96EE_Ef3lw"
      },
      "execution_count": 20,
      "outputs": []
    },
    {
      "cell_type": "code",
      "source": [
        "fit_wiki = Holt(train_wiki['views']).fit(optimized=True)\n",
        "fcast_wiki_test = fit_wiki.forecast(12)"
      ],
      "metadata": {
        "colab": {
          "base_uri": "https://localhost:8080/"
        },
        "id": "BEM4DmRqf92h",
        "outputId": "3ad5c73a-008b-472f-9c0a-15a6682cbfe6"
      },
      "execution_count": 21,
      "outputs": [
        {
          "output_type": "stream",
          "name": "stderr",
          "text": [
            "/usr/local/lib/python3.7/dist-packages/statsmodels/tsa/holtwinters.py:712: ConvergenceWarning: Optimization failed to converge. Check mle_retvals.\n",
            "  ConvergenceWarning)\n"
          ]
        }
      ]
    },
    {
      "cell_type": "markdown",
      "source": [
        "# Forecast (12 months ahead)"
      ],
      "metadata": {
        "id": "LIQUHLkuiQkf"
      }
    },
    {
      "cell_type": "code",
      "source": [
        "fit_goog = Holt(df1_in['Kraken']).fit(optimized=True)\n",
        "fit_wiki = Holt(df2_in['views']).fit(optimized=True)\n",
        "forecast_goog = fit_goog.forecast(12)\n",
        "forecast_wiki = fit_wiki.forecast(12)"
      ],
      "metadata": {
        "colab": {
          "base_uri": "https://localhost:8080/"
        },
        "id": "Me7rVBBWiXzm",
        "outputId": "991e77a4-ca53-4d97-d1fe-5fc262b78ea0"
      },
      "execution_count": 22,
      "outputs": [
        {
          "output_type": "stream",
          "name": "stderr",
          "text": [
            "/usr/local/lib/python3.7/dist-packages/statsmodels/tsa/holtwinters.py:712: ConvergenceWarning: Optimization failed to converge. Check mle_retvals.\n",
            "  ConvergenceWarning)\n"
          ]
        }
      ]
    },
    {
      "cell_type": "markdown",
      "source": [
        "# Dashboard prep"
      ],
      "metadata": {
        "id": "rrIRFQcVqL_B"
      }
    },
    {
      "cell_type": "code",
      "source": [
        "! pip install dash   \n",
        "! pip install dash-html-components                                         \n",
        "! pip install dash-core-components                                     \n",
        "! pip install plotly"
      ],
      "metadata": {
        "colab": {
          "base_uri": "https://localhost:8080/"
        },
        "id": "BPr32JgCstSW",
        "outputId": "4ce8920e-9598-4414-8c8e-387a987a6191"
      },
      "execution_count": 23,
      "outputs": [
        {
          "output_type": "stream",
          "name": "stdout",
          "text": [
            "Collecting dash\n",
            "  Downloading dash-2.3.0-py3-none-any.whl (9.6 MB)\n",
            "\u001b[K     |████████████████████████████████| 9.6 MB 3.2 MB/s \n",
            "\u001b[?25hRequirement already satisfied: Flask>=1.0.4 in /usr/local/lib/python3.7/dist-packages (from dash) (1.1.4)\n",
            "Collecting dash-html-components==2.0.0\n",
            "  Downloading dash_html_components-2.0.0-py3-none-any.whl (4.1 kB)\n",
            "Requirement already satisfied: plotly>=5.0.0 in /usr/local/lib/python3.7/dist-packages (from dash) (5.5.0)\n",
            "Collecting flask-compress\n",
            "  Downloading Flask_Compress-1.11-py3-none-any.whl (7.9 kB)\n",
            "Collecting dash-core-components==2.0.0\n",
            "  Downloading dash_core_components-2.0.0-py3-none-any.whl (3.8 kB)\n",
            "Collecting dash-table==5.0.0\n",
            "  Downloading dash_table-5.0.0-py3-none-any.whl (3.9 kB)\n",
            "Requirement already satisfied: Jinja2<3.0,>=2.10.1 in /usr/local/lib/python3.7/dist-packages (from Flask>=1.0.4->dash) (2.11.3)\n",
            "Requirement already satisfied: itsdangerous<2.0,>=0.24 in /usr/local/lib/python3.7/dist-packages (from Flask>=1.0.4->dash) (1.1.0)\n",
            "Requirement already satisfied: Werkzeug<2.0,>=0.15 in /usr/local/lib/python3.7/dist-packages (from Flask>=1.0.4->dash) (1.0.1)\n",
            "Requirement already satisfied: click<8.0,>=5.1 in /usr/local/lib/python3.7/dist-packages (from Flask>=1.0.4->dash) (7.1.2)\n",
            "Requirement already satisfied: MarkupSafe>=0.23 in /usr/local/lib/python3.7/dist-packages (from Jinja2<3.0,>=2.10.1->Flask>=1.0.4->dash) (2.0.1)\n",
            "Requirement already satisfied: tenacity>=6.2.0 in /usr/local/lib/python3.7/dist-packages (from plotly>=5.0.0->dash) (8.0.1)\n",
            "Requirement already satisfied: six in /usr/local/lib/python3.7/dist-packages (from plotly>=5.0.0->dash) (1.15.0)\n",
            "Collecting brotli\n",
            "  Downloading Brotli-1.0.9-cp37-cp37m-manylinux1_x86_64.whl (357 kB)\n",
            "\u001b[K     |████████████████████████████████| 357 kB 21.2 MB/s \n",
            "\u001b[?25hInstalling collected packages: brotli, flask-compress, dash-table, dash-html-components, dash-core-components, dash\n",
            "Successfully installed brotli-1.0.9 dash-2.3.0 dash-core-components-2.0.0 dash-html-components-2.0.0 dash-table-5.0.0 flask-compress-1.11\n",
            "Requirement already satisfied: dash-html-components in /usr/local/lib/python3.7/dist-packages (2.0.0)\n",
            "Requirement already satisfied: dash-core-components in /usr/local/lib/python3.7/dist-packages (2.0.0)\n",
            "Requirement already satisfied: plotly in /usr/local/lib/python3.7/dist-packages (5.5.0)\n",
            "Requirement already satisfied: six in /usr/local/lib/python3.7/dist-packages (from plotly) (1.15.0)\n",
            "Requirement already satisfied: tenacity>=6.2.0 in /usr/local/lib/python3.7/dist-packages (from plotly) (8.0.1)\n"
          ]
        }
      ]
    },
    {
      "cell_type": "code",
      "source": [
        "fcast_dates = ['2022-03-01','2022-04-01','2022-05-01','2022-06-01','2022-07-01','2022-08-01','2022-09-01','2022-10-01','2022-11-01','2022-12-01','2023-01-01','2023-02-01']"
      ],
      "metadata": {
        "id": "0YnuywSpqO8s"
      },
      "execution_count": 24,
      "outputs": []
    },
    {
      "cell_type": "code",
      "source": [
        "df1_out = pd.DataFrame({'date': fcast_dates, 'Kraken':  forecast_goog}) \n",
        "df2_out = pd.DataFrame({'date': fcast_dates, 'views':  forecast_wiki})"
      ],
      "metadata": {
        "id": "LMvxL8lbinwU"
      },
      "execution_count": 27,
      "outputs": []
    },
    {
      "cell_type": "code",
      "source": [
        "df2_out.to_sql('wiki_forecast',  conn, if_exists='replace', index=False)\n",
        "df1_out.to_sql('goog_forecast',  conn, if_exists='replace', index=False)"
      ],
      "metadata": {
        "id": "6T9a1-OxmBcg"
      },
      "execution_count": 28,
      "outputs": []
    },
    {
      "cell_type": "code",
      "source": [
        "df2_in.to_sql('wiki_input',  conn, if_exists='replace', index=False)\n",
        "df1_in.to_sql('goog_input',  conn, if_exists='replace', index=False)"
      ],
      "metadata": {
        "id": "t5YFIewUp5Fg"
      },
      "execution_count": 29,
      "outputs": []
    },
    {
      "cell_type": "code",
      "source": [
        "wiki_query = '''\n",
        "SELECT * \n",
        "FROM wiki_input\n",
        "union\n",
        "SELECT * \n",
        "from wiki_forecast\n",
        "'''\n",
        "\n",
        "goog_query = '''\n",
        "SELECT * \n",
        "FROM goog_input\n",
        "union\n",
        "SELECT * \n",
        "from goog_forecast\n",
        "'''\n",
        "\n",
        "wiki_fin = pd.read_sql(wiki_query, conn )\n",
        "goog_fin = pd.read_sql(goog_query, conn )"
      ],
      "metadata": {
        "id": "9QviV0WlpqJZ"
      },
      "execution_count": 30,
      "outputs": []
    },
    {
      "cell_type": "code",
      "source": [
        "wiki_fin.to_csv('wiki.csv')\n",
        "goog_fin.to_csv('goog.csv')"
      ],
      "metadata": {
        "id": "lwzx27fFvcPr"
      },
      "execution_count": 32,
      "outputs": []
    }
  ]
}